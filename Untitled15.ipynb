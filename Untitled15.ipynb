{
 "cells": [
  {
   "cell_type": "code",
   "execution_count": 1,
   "id": "82a0a330",
   "metadata": {},
   "outputs": [],
   "source": [
    "import pandas as pd"
   ]
  },
  {
   "cell_type": "code",
   "execution_count": 2,
   "id": "71b15ee8",
   "metadata": {},
   "outputs": [],
   "source": [
    "df2=pd.read_csv(r\"C:\\Users\\Aaditya\\Downloads\\cars_engage_2022.csv\")"
   ]
  },
  {
   "cell_type": "code",
   "execution_count": 9,
   "id": "040963a5",
   "metadata": {
    "scrolled": true
   },
   "outputs": [
    {
     "data": {
      "text/html": [
       "<div>\n",
       "<style scoped>\n",
       "    .dataframe tbody tr th:only-of-type {\n",
       "        vertical-align: middle;\n",
       "    }\n",
       "\n",
       "    .dataframe tbody tr th {\n",
       "        vertical-align: top;\n",
       "    }\n",
       "\n",
       "    .dataframe thead th {\n",
       "        text-align: right;\n",
       "    }\n",
       "</style>\n",
       "<table border=\"1\" class=\"dataframe\">\n",
       "  <thead>\n",
       "    <tr style=\"text-align: right;\">\n",
       "      <th></th>\n",
       "      <th>Unnamed: 0</th>\n",
       "      <th>Make</th>\n",
       "      <th>Model</th>\n",
       "      <th>Variant</th>\n",
       "      <th>Ex-Showroom_Price</th>\n",
       "      <th>Displacement</th>\n",
       "      <th>Cylinders</th>\n",
       "      <th>Valves_Per_Cylinder</th>\n",
       "      <th>Drivetrain</th>\n",
       "      <th>Cylinder_Configuration</th>\n",
       "      <th>...</th>\n",
       "      <th>Leather_Wrapped_Steering</th>\n",
       "      <th>Automatic_Headlamps</th>\n",
       "      <th>Engine_Type</th>\n",
       "      <th>ASR_/_Traction_Control</th>\n",
       "      <th>Cruise_Control</th>\n",
       "      <th>USB_Ports</th>\n",
       "      <th>Heads-Up_Display</th>\n",
       "      <th>Welcome_Lights</th>\n",
       "      <th>Battery</th>\n",
       "      <th>Electric_Range</th>\n",
       "    </tr>\n",
       "  </thead>\n",
       "  <tbody>\n",
       "    <tr>\n",
       "      <th>0</th>\n",
       "      <td>0</td>\n",
       "      <td>Tata</td>\n",
       "      <td>Nano Genx</td>\n",
       "      <td>Xt</td>\n",
       "      <td>Rs. 2,92,667</td>\n",
       "      <td>624 cc</td>\n",
       "      <td>2.0</td>\n",
       "      <td>2.0</td>\n",
       "      <td>RWD (Rear Wheel Drive)</td>\n",
       "      <td>In-line</td>\n",
       "      <td>...</td>\n",
       "      <td>NaN</td>\n",
       "      <td>NaN</td>\n",
       "      <td>NaN</td>\n",
       "      <td>NaN</td>\n",
       "      <td>NaN</td>\n",
       "      <td>NaN</td>\n",
       "      <td>NaN</td>\n",
       "      <td>NaN</td>\n",
       "      <td>NaN</td>\n",
       "      <td>NaN</td>\n",
       "    </tr>\n",
       "    <tr>\n",
       "      <th>1</th>\n",
       "      <td>1</td>\n",
       "      <td>Tata</td>\n",
       "      <td>Nano Genx</td>\n",
       "      <td>Xe</td>\n",
       "      <td>Rs. 2,36,447</td>\n",
       "      <td>624 cc</td>\n",
       "      <td>2.0</td>\n",
       "      <td>2.0</td>\n",
       "      <td>RWD (Rear Wheel Drive)</td>\n",
       "      <td>In-line</td>\n",
       "      <td>...</td>\n",
       "      <td>NaN</td>\n",
       "      <td>NaN</td>\n",
       "      <td>NaN</td>\n",
       "      <td>NaN</td>\n",
       "      <td>NaN</td>\n",
       "      <td>NaN</td>\n",
       "      <td>NaN</td>\n",
       "      <td>NaN</td>\n",
       "      <td>NaN</td>\n",
       "      <td>NaN</td>\n",
       "    </tr>\n",
       "    <tr>\n",
       "      <th>2</th>\n",
       "      <td>2</td>\n",
       "      <td>Tata</td>\n",
       "      <td>Nano Genx</td>\n",
       "      <td>Emax Xm</td>\n",
       "      <td>Rs. 2,96,661</td>\n",
       "      <td>624 cc</td>\n",
       "      <td>2.0</td>\n",
       "      <td>2.0</td>\n",
       "      <td>RWD (Rear Wheel Drive)</td>\n",
       "      <td>In-line</td>\n",
       "      <td>...</td>\n",
       "      <td>NaN</td>\n",
       "      <td>NaN</td>\n",
       "      <td>NaN</td>\n",
       "      <td>NaN</td>\n",
       "      <td>NaN</td>\n",
       "      <td>NaN</td>\n",
       "      <td>NaN</td>\n",
       "      <td>NaN</td>\n",
       "      <td>NaN</td>\n",
       "      <td>NaN</td>\n",
       "    </tr>\n",
       "    <tr>\n",
       "      <th>3</th>\n",
       "      <td>3</td>\n",
       "      <td>Tata</td>\n",
       "      <td>Nano Genx</td>\n",
       "      <td>Xta</td>\n",
       "      <td>Rs. 3,34,768</td>\n",
       "      <td>624 cc</td>\n",
       "      <td>2.0</td>\n",
       "      <td>2.0</td>\n",
       "      <td>RWD (Rear Wheel Drive)</td>\n",
       "      <td>In-line</td>\n",
       "      <td>...</td>\n",
       "      <td>NaN</td>\n",
       "      <td>NaN</td>\n",
       "      <td>NaN</td>\n",
       "      <td>NaN</td>\n",
       "      <td>NaN</td>\n",
       "      <td>NaN</td>\n",
       "      <td>NaN</td>\n",
       "      <td>NaN</td>\n",
       "      <td>NaN</td>\n",
       "      <td>NaN</td>\n",
       "    </tr>\n",
       "    <tr>\n",
       "      <th>4</th>\n",
       "      <td>4</td>\n",
       "      <td>Tata</td>\n",
       "      <td>Nano Genx</td>\n",
       "      <td>Xm</td>\n",
       "      <td>Rs. 2,72,223</td>\n",
       "      <td>624 cc</td>\n",
       "      <td>2.0</td>\n",
       "      <td>2.0</td>\n",
       "      <td>RWD (Rear Wheel Drive)</td>\n",
       "      <td>In-line</td>\n",
       "      <td>...</td>\n",
       "      <td>NaN</td>\n",
       "      <td>NaN</td>\n",
       "      <td>NaN</td>\n",
       "      <td>NaN</td>\n",
       "      <td>NaN</td>\n",
       "      <td>NaN</td>\n",
       "      <td>NaN</td>\n",
       "      <td>NaN</td>\n",
       "      <td>NaN</td>\n",
       "      <td>NaN</td>\n",
       "    </tr>\n",
       "  </tbody>\n",
       "</table>\n",
       "<p>5 rows × 141 columns</p>\n",
       "</div>"
      ],
      "text/plain": [
       "   Unnamed: 0  Make      Model  Variant Ex-Showroom_Price Displacement  \\\n",
       "0           0  Tata  Nano Genx       Xt      Rs. 2,92,667       624 cc   \n",
       "1           1  Tata  Nano Genx       Xe      Rs. 2,36,447       624 cc   \n",
       "2           2  Tata  Nano Genx  Emax Xm      Rs. 2,96,661       624 cc   \n",
       "3           3  Tata  Nano Genx      Xta      Rs. 3,34,768       624 cc   \n",
       "4           4  Tata  Nano Genx       Xm      Rs. 2,72,223       624 cc   \n",
       "\n",
       "   Cylinders  Valves_Per_Cylinder              Drivetrain  \\\n",
       "0        2.0                  2.0  RWD (Rear Wheel Drive)   \n",
       "1        2.0                  2.0  RWD (Rear Wheel Drive)   \n",
       "2        2.0                  2.0  RWD (Rear Wheel Drive)   \n",
       "3        2.0                  2.0  RWD (Rear Wheel Drive)   \n",
       "4        2.0                  2.0  RWD (Rear Wheel Drive)   \n",
       "\n",
       "  Cylinder_Configuration  ... Leather_Wrapped_Steering Automatic_Headlamps  \\\n",
       "0                In-line  ...                      NaN                 NaN   \n",
       "1                In-line  ...                      NaN                 NaN   \n",
       "2                In-line  ...                      NaN                 NaN   \n",
       "3                In-line  ...                      NaN                 NaN   \n",
       "4                In-line  ...                      NaN                 NaN   \n",
       "\n",
       "  Engine_Type ASR_/_Traction_Control Cruise_Control USB_Ports  \\\n",
       "0         NaN                    NaN            NaN       NaN   \n",
       "1         NaN                    NaN            NaN       NaN   \n",
       "2         NaN                    NaN            NaN       NaN   \n",
       "3         NaN                    NaN            NaN       NaN   \n",
       "4         NaN                    NaN            NaN       NaN   \n",
       "\n",
       "  Heads-Up_Display Welcome_Lights Battery  Electric_Range  \n",
       "0              NaN            NaN     NaN             NaN  \n",
       "1              NaN            NaN     NaN             NaN  \n",
       "2              NaN            NaN     NaN             NaN  \n",
       "3              NaN            NaN     NaN             NaN  \n",
       "4              NaN            NaN     NaN             NaN  \n",
       "\n",
       "[5 rows x 141 columns]"
      ]
     },
     "execution_count": 9,
     "metadata": {},
     "output_type": "execute_result"
    }
   ],
   "source": [
    "df2.head()"
   ]
  },
  {
   "cell_type": "code",
   "execution_count": 10,
   "id": "5611868f",
   "metadata": {},
   "outputs": [
    {
     "data": {
      "text/plain": [
       "(1276, 141)"
      ]
     },
     "execution_count": 10,
     "metadata": {},
     "output_type": "execute_result"
    }
   ],
   "source": [
    "df2.shape"
   ]
  },
  {
   "cell_type": "code",
   "execution_count": 11,
   "id": "aa17d0ba",
   "metadata": {},
   "outputs": [
    {
     "data": {
      "text/plain": [
       "Maruti Suzuki       149\n",
       "Hyundai             130\n",
       "Mahindra            119\n",
       "Tata                100\n",
       "Toyota               82\n",
       "Honda                64\n",
       "Skoda                43\n",
       "Ford                 43\n",
       "Bmw                  37\n",
       "Renault              36\n",
       "Volkswagen           34\n",
       "Audi                 31\n",
       "Nissan               29\n",
       "Jeep                 28\n",
       "Land Rover Rover     27\n",
       "Fiat                 23\n",
       "Jaguar               22\n",
       "Kia                  21\n",
       "Volvo                18\n",
       "Datsun               15\n",
       "Porsche              14\n",
       "Maruti Suzuki R      14\n",
       "Lamborghini          13\n",
       "Mg                   13\n",
       "Icml                 11\n",
       "Land Rover           10\n",
       "Lexus                10\n",
       "Mini                 10\n",
       "Maserati              9\n",
       "Ferrari               8\n",
       "Mitsubishi            7\n",
       "Bentley               6\n",
       "Premier               6\n",
       "Force                 6\n",
       "Isuzu                 5\n",
       "Aston Martin          3\n",
       "Bajaj                 2\n",
       "Bugatti               2\n",
       "Dc                    1\n",
       "Name: Make, dtype: int64"
      ]
     },
     "execution_count": 11,
     "metadata": {},
     "output_type": "execute_result"
    }
   ],
   "source": [
    "df2['Make'].value_counts()"
   ]
  },
  {
   "cell_type": "code",
   "execution_count": 12,
   "id": "f4e51c7b",
   "metadata": {},
   "outputs": [
    {
     "data": {
      "text/plain": [
       "Unnamed: 0                           0\n",
       "Make                                75\n",
       "Model                                0\n",
       "Variant                              0\n",
       "Ex-Showroom_Price                    0\n",
       "Displacement                        12\n",
       "Cylinders                           66\n",
       "Valves_Per_Cylinder                102\n",
       "Drivetrain                           7\n",
       "Cylinder_Configuration              13\n",
       "Emission_Norm                       11\n",
       "Engine_Location                     43\n",
       "Fuel_System                          8\n",
       "Fuel_Tank_Capacity                  69\n",
       "Fuel_Type                            0\n",
       "Height                               1\n",
       "Length                               0\n",
       "Width                               12\n",
       "Body_Type                            6\n",
       "Doors                                4\n",
       "City_Mileage                       555\n",
       "Highway_Mileage                    800\n",
       "ARAI_Certified_Mileage             114\n",
       "ARAI_Certified_Mileage_for_CNG    1249\n",
       "Kerb_Weight                        365\n",
       "Gears                              105\n",
       "Ground_Clearance                   289\n",
       "Front_Brakes                        25\n",
       "Rear_Brakes                         25\n",
       "Front_Suspension                    59\n",
       "Rear_Suspension                     46\n",
       "Front_Track                        667\n",
       "Rear_Track                         676\n",
       "Front_Tyre_&_Rim                    49\n",
       "Rear_Tyre_&_Rim                     48\n",
       "Power_Steering                      57\n",
       "Power_Windows                       97\n",
       "Power_Seats                        893\n",
       "Keyless_Entry                      274\n",
       "Power                                0\n",
       "dtype: int64"
      ]
     },
     "execution_count": 12,
     "metadata": {},
     "output_type": "execute_result"
    }
   ],
   "source": [
    "df2.isnull().sum()[:40]"
   ]
  },
  {
   "cell_type": "code",
   "execution_count": 13,
   "id": "5bb6cc00",
   "metadata": {},
   "outputs": [
    {
     "data": {
      "text/plain": [
       "Index(['Unnamed: 0', 'Make', 'Model', 'Variant', 'Ex-Showroom_Price',\n",
       "       'Displacement', 'Cylinders', 'Valves_Per_Cylinder', 'Drivetrain',\n",
       "       'Cylinder_Configuration', 'Emission_Norm', 'Engine_Location',\n",
       "       'Fuel_System', 'Fuel_Tank_Capacity', 'Fuel_Type', 'Height', 'Length',\n",
       "       'Width', 'Body_Type', 'Doors', 'City_Mileage', 'Highway_Mileage',\n",
       "       'ARAI_Certified_Mileage', 'ARAI_Certified_Mileage_for_CNG',\n",
       "       'Kerb_Weight', 'Gears', 'Ground_Clearance', 'Front_Brakes',\n",
       "       'Rear_Brakes', 'Front_Suspension'],\n",
       "      dtype='object')"
      ]
     },
     "execution_count": 13,
     "metadata": {},
     "output_type": "execute_result"
    }
   ],
   "source": [
    "df2.columns[:30]"
   ]
  },
  {
   "cell_type": "code",
   "execution_count": 14,
   "id": "87f5049c",
   "metadata": {},
   "outputs": [
    {
     "name": "stdout",
     "output_type": "stream",
     "text": [
      "<class 'pandas.core.frame.DataFrame'>\n",
      "RangeIndex: 1276 entries, 0 to 1275\n",
      "Columns: 141 entries, Unnamed: 0 to Electric_Range\n",
      "dtypes: float64(6), int64(1), object(134)\n",
      "memory usage: 1.4+ MB\n"
     ]
    }
   ],
   "source": [
    "df2.info()"
   ]
  },
  {
   "cell_type": "code",
   "execution_count": 15,
   "id": "da986516",
   "metadata": {},
   "outputs": [],
   "source": [
    "df2.Make.fillna('Mercedes',inplace=True)"
   ]
  },
  {
   "cell_type": "code",
   "execution_count": 16,
   "id": "56d7ebfd",
   "metadata": {},
   "outputs": [
    {
     "data": {
      "text/plain": [
       "Unnamed: 0              0\n",
       "Make                    0\n",
       "Model                   0\n",
       "Variant                 0\n",
       "Ex-Showroom_Price       0\n",
       "                     ... \n",
       "USB_Ports            1247\n",
       "Heads-Up_Display     1225\n",
       "Welcome_Lights       1207\n",
       "Battery              1263\n",
       "Electric_Range       1259\n",
       "Length: 141, dtype: int64"
      ]
     },
     "execution_count": 16,
     "metadata": {},
     "output_type": "execute_result"
    }
   ],
   "source": [
    "df2.isnull().sum()"
   ]
  },
  {
   "cell_type": "code",
   "execution_count": 17,
   "id": "a9549558",
   "metadata": {},
   "outputs": [
    {
     "name": "stderr",
     "output_type": "stream",
     "text": [
      "C:\\Users\\Aaditya\\AppData\\Local\\Temp\\ipykernel_38000\\2205372102.py:1: SettingWithCopyWarning: \n",
      "A value is trying to be set on a copy of a slice from a DataFrame\n",
      "\n",
      "See the caveats in the documentation: https://pandas.pydata.org/pandas-docs/stable/user_guide/indexing.html#returning-a-view-versus-a-copy\n",
      "  df2['Make'][1219]='Rolls-Royce'\n",
      "C:\\Users\\Aaditya\\AppData\\Local\\Temp\\ipykernel_38000\\2205372102.py:2: SettingWithCopyWarning: \n",
      "A value is trying to be set on a copy of a slice from a DataFrame\n",
      "\n",
      "See the caveats in the documentation: https://pandas.pydata.org/pandas-docs/stable/user_guide/indexing.html#returning-a-view-versus-a-copy\n",
      "  df2['Make'][1220]='Rolls-Royce'\n",
      "C:\\Users\\Aaditya\\AppData\\Local\\Temp\\ipykernel_38000\\2205372102.py:3: SettingWithCopyWarning: \n",
      "A value is trying to be set on a copy of a slice from a DataFrame\n",
      "\n",
      "See the caveats in the documentation: https://pandas.pydata.org/pandas-docs/stable/user_guide/indexing.html#returning-a-view-versus-a-copy\n",
      "  df2['Make'][879]='Rolls-Royce'\n",
      "C:\\Users\\Aaditya\\AppData\\Local\\Temp\\ipykernel_38000\\2205372102.py:4: SettingWithCopyWarning: \n",
      "A value is trying to be set on a copy of a slice from a DataFrame\n",
      "\n",
      "See the caveats in the documentation: https://pandas.pydata.org/pandas-docs/stable/user_guide/indexing.html#returning-a-view-versus-a-copy\n",
      "  df2['Make'][880]='Rolls-Royce'\n"
     ]
    }
   ],
   "source": [
    "df2['Make'][1219]='Rolls-Royce'\n",
    "df2['Make'][1220]='Rolls-Royce'\n",
    "df2['Make'][879]='Rolls-Royce'\n",
    "df2['Make'][880]='Rolls-Royce'"
   ]
  },
  {
   "cell_type": "code",
   "execution_count": 18,
   "id": "2b381b97",
   "metadata": {},
   "outputs": [
    {
     "data": {
      "text/plain": [
       "'Rolls-Royce'"
      ]
     },
     "execution_count": 18,
     "metadata": {},
     "output_type": "execute_result"
    }
   ],
   "source": [
    "df2['Make'][1219]\n",
    "df2['Make'][1220]"
   ]
  },
  {
   "cell_type": "code",
   "execution_count": 19,
   "id": "40c9df82",
   "metadata": {},
   "outputs": [
    {
     "name": "stderr",
     "output_type": "stream",
     "text": [
      "C:\\Users\\Aaditya\\AppData\\Local\\Temp\\ipykernel_38000\\1196248880.py:2: SettingWithCopyWarning: \n",
      "A value is trying to be set on a copy of a slice from a DataFrame\n",
      "\n",
      "See the caveats in the documentation: https://pandas.pydata.org/pandas-docs/stable/user_guide/indexing.html#returning-a-view-versus-a-copy\n",
      "  df2['Make'][i]='Datsun'\n"
     ]
    }
   ],
   "source": [
    "for i in range(883,892):\n",
    "    df2['Make'][i]='Datsun'"
   ]
  },
  {
   "cell_type": "code",
   "execution_count": 20,
   "id": "dfdfe226",
   "metadata": {},
   "outputs": [
    {
     "name": "stderr",
     "output_type": "stream",
     "text": [
      "C:\\Users\\Aaditya\\AppData\\Local\\Temp\\ipykernel_38000\\3064651353.py:2: SettingWithCopyWarning: \n",
      "A value is trying to be set on a copy of a slice from a DataFrame\n",
      "\n",
      "See the caveats in the documentation: https://pandas.pydata.org/pandas-docs/stable/user_guide/indexing.html#returning-a-view-versus-a-copy\n",
      "  df2['Make'][i]='Rolls-Royce'\n"
     ]
    }
   ],
   "source": [
    "for i in range(349,355):\n",
    "    df2['Make'][i]='Rolls-Royce'"
   ]
  },
  {
   "cell_type": "code",
   "execution_count": 21,
   "id": "6c94e69d",
   "metadata": {},
   "outputs": [
    {
     "data": {
      "text/plain": [
       "0"
      ]
     },
     "execution_count": 21,
     "metadata": {},
     "output_type": "execute_result"
    }
   ],
   "source": [
    "df2.Make.isnull().sum()"
   ]
  },
  {
   "cell_type": "code",
   "execution_count": 22,
   "id": "11f2e71b",
   "metadata": {},
   "outputs": [
    {
     "data": {
      "text/plain": [
       "Unnamed: 0                  0\n",
       "Make                        0\n",
       "Model                       0\n",
       "Variant                     0\n",
       "Ex-Showroom_Price           0\n",
       "Displacement               12\n",
       "Cylinders                  66\n",
       "Valves_Per_Cylinder       102\n",
       "Drivetrain                  7\n",
       "Cylinder_Configuration     13\n",
       "dtype: int64"
      ]
     },
     "execution_count": 22,
     "metadata": {},
     "output_type": "execute_result"
    }
   ],
   "source": [
    "df2.isnull().sum()[:10]"
   ]
  },
  {
   "cell_type": "code",
   "execution_count": 23,
   "id": "2535de49",
   "metadata": {},
   "outputs": [
    {
     "data": {
      "text/plain": [
       "0        624 cc\n",
       "1        624 cc\n",
       "2        624 cc\n",
       "3        624 cc\n",
       "4        624 cc\n",
       "         ...   \n",
       "1271    1498 cc\n",
       "1272    1498 cc\n",
       "1273    1497 cc\n",
       "1274    1497 cc\n",
       "1275    3200 cc\n",
       "Name: Displacement, Length: 1276, dtype: object"
      ]
     },
     "execution_count": 23,
     "metadata": {},
     "output_type": "execute_result"
    }
   ],
   "source": [
    "df2.Displacement"
   ]
  },
  {
   "cell_type": "code",
   "execution_count": 24,
   "id": "566c8c21",
   "metadata": {},
   "outputs": [
    {
     "data": {
      "text/plain": [
       "0    1197 cc\n",
       "Name: Displacement, dtype: object"
      ]
     },
     "execution_count": 24,
     "metadata": {},
     "output_type": "execute_result"
    }
   ],
   "source": [
    "df2.Displacement.value_counts()\n",
    "df2.Displacement.mode()"
   ]
  },
  {
   "cell_type": "code",
   "execution_count": 25,
   "id": "06579177",
   "metadata": {},
   "outputs": [],
   "source": [
    "df2['Displacement'].fillna('1197 cc',inplace=True)"
   ]
  },
  {
   "cell_type": "code",
   "execution_count": 26,
   "id": "112af8fb",
   "metadata": {},
   "outputs": [
    {
     "data": {
      "text/plain": [
       "0"
      ]
     },
     "execution_count": 26,
     "metadata": {},
     "output_type": "execute_result"
    }
   ],
   "source": [
    "df2.Displacement.isnull().sum()"
   ]
  },
  {
   "cell_type": "code",
   "execution_count": 27,
   "id": "a93800cd",
   "metadata": {
    "scrolled": true
   },
   "outputs": [
    {
     "data": {
      "text/plain": [
       "Unnamed: 0                  0\n",
       "Make                        0\n",
       "Model                       0\n",
       "Variant                     0\n",
       "Ex-Showroom_Price           0\n",
       "Displacement                0\n",
       "Cylinders                  66\n",
       "Valves_Per_Cylinder       102\n",
       "Drivetrain                  7\n",
       "Cylinder_Configuration     13\n",
       "Emission_Norm              11\n",
       "Engine_Location            43\n",
       "Fuel_System                 8\n",
       "Fuel_Tank_Capacity         69\n",
       "Fuel_Type                   0\n",
       "Height                      1\n",
       "Length                      0\n",
       "Width                      12\n",
       "Body_Type                   6\n",
       "Doors                       4\n",
       "dtype: int64"
      ]
     },
     "execution_count": 27,
     "metadata": {},
     "output_type": "execute_result"
    }
   ],
   "source": [
    "df2.isnull().sum()[:20]"
   ]
  },
  {
   "cell_type": "code",
   "execution_count": 28,
   "id": "8399c590",
   "metadata": {},
   "outputs": [
    {
     "data": {
      "text/plain": [
       "4.0     789\n",
       "3.0     213\n",
       "6.0     106\n",
       "8.0      53\n",
       "12.0     21\n",
       "5.0      10\n",
       "10.0     10\n",
       "2.0       6\n",
       "16.0      2\n",
       "Name: Cylinders, dtype: int64"
      ]
     },
     "execution_count": 28,
     "metadata": {},
     "output_type": "execute_result"
    }
   ],
   "source": [
    "df2.Cylinders.value_counts()"
   ]
  },
  {
   "cell_type": "code",
   "execution_count": 29,
   "id": "974a9784",
   "metadata": {},
   "outputs": [
    {
     "data": {
      "text/plain": [
       "Unnamed: 0                  int64\n",
       "Make                       object\n",
       "Model                      object\n",
       "Variant                    object\n",
       "Ex-Showroom_Price          object\n",
       "Displacement               object\n",
       "Cylinders                 float64\n",
       "Valves_Per_Cylinder       float64\n",
       "Drivetrain                 object\n",
       "Cylinder_Configuration     object\n",
       "dtype: object"
      ]
     },
     "execution_count": 29,
     "metadata": {},
     "output_type": "execute_result"
    }
   ],
   "source": [
    "df2.dtypes[:10]"
   ]
  },
  {
   "cell_type": "code",
   "execution_count": 30,
   "id": "6050fa62",
   "metadata": {},
   "outputs": [
    {
     "data": {
      "text/plain": [
       "4.0"
      ]
     },
     "execution_count": 30,
     "metadata": {},
     "output_type": "execute_result"
    }
   ],
   "source": [
    "df2.Cylinders.median()"
   ]
  },
  {
   "cell_type": "code",
   "execution_count": 31,
   "id": "7acdfc5d",
   "metadata": {},
   "outputs": [],
   "source": [
    "df2.Cylinders.fillna(4,inplace=True)"
   ]
  },
  {
   "cell_type": "code",
   "execution_count": 32,
   "id": "b10bebc0",
   "metadata": {},
   "outputs": [
    {
     "data": {
      "text/plain": [
       "0"
      ]
     },
     "execution_count": 32,
     "metadata": {},
     "output_type": "execute_result"
    }
   ],
   "source": [
    "df2.Cylinders.isnull().sum()"
   ]
  },
  {
   "cell_type": "code",
   "execution_count": 33,
   "id": "1bb1388a",
   "metadata": {},
   "outputs": [
    {
     "data": {
      "text/plain": [
       "4.0"
      ]
     },
     "execution_count": 33,
     "metadata": {},
     "output_type": "execute_result"
    }
   ],
   "source": [
    "df2.Valves_Per_Cylinder.median()"
   ]
  },
  {
   "cell_type": "code",
   "execution_count": 34,
   "id": "be2f3e7d",
   "metadata": {},
   "outputs": [],
   "source": [
    "df2.Valves_Per_Cylinder.fillna(4,inplace=True)"
   ]
  },
  {
   "cell_type": "code",
   "execution_count": 35,
   "id": "e8822999",
   "metadata": {},
   "outputs": [
    {
     "data": {
      "text/plain": [
       "0    FWD (Front Wheel Drive)\n",
       "Name: Drivetrain, dtype: object"
      ]
     },
     "execution_count": 35,
     "metadata": {},
     "output_type": "execute_result"
    }
   ],
   "source": [
    "df2.Drivetrain.mode()"
   ]
  },
  {
   "cell_type": "code",
   "execution_count": 36,
   "id": "d85a7949",
   "metadata": {},
   "outputs": [],
   "source": [
    "df2.Drivetrain.fillna('FWD (Front Wheel Drive)',inplace=True)"
   ]
  },
  {
   "cell_type": "code",
   "execution_count": 37,
   "id": "cc15a829",
   "metadata": {},
   "outputs": [
    {
     "data": {
      "text/plain": [
       "Unnamed: 0                 0\n",
       "Make                       0\n",
       "Model                      0\n",
       "Variant                    0\n",
       "Ex-Showroom_Price          0\n",
       "Displacement               0\n",
       "Cylinders                  0\n",
       "Valves_Per_Cylinder        0\n",
       "Drivetrain                 0\n",
       "Cylinder_Configuration    13\n",
       "Emission_Norm             11\n",
       "Engine_Location           43\n",
       "Fuel_System                8\n",
       "Fuel_Tank_Capacity        69\n",
       "Fuel_Type                  0\n",
       "Height                     1\n",
       "Length                     0\n",
       "Width                     12\n",
       "Body_Type                  6\n",
       "Doors                      4\n",
       "dtype: int64"
      ]
     },
     "execution_count": 37,
     "metadata": {},
     "output_type": "execute_result"
    }
   ],
   "source": [
    "df2.isnull().sum()[:20]"
   ]
  },
  {
   "cell_type": "code",
   "execution_count": 38,
   "id": "091c3d34",
   "metadata": {},
   "outputs": [
    {
     "data": {
      "text/plain": [
       "Unnamed: 0                  int64\n",
       "Make                       object\n",
       "Model                      object\n",
       "Variant                    object\n",
       "Ex-Showroom_Price          object\n",
       "Displacement               object\n",
       "Cylinders                 float64\n",
       "Valves_Per_Cylinder       float64\n",
       "Drivetrain                 object\n",
       "Cylinder_Configuration     object\n",
       "Emission_Norm              object\n",
       "Engine_Location            object\n",
       "Fuel_System                object\n",
       "Fuel_Tank_Capacity         object\n",
       "Fuel_Type                  object\n",
       "Height                     object\n",
       "Length                     object\n",
       "Width                      object\n",
       "Body_Type                  object\n",
       "Doors                     float64\n",
       "dtype: object"
      ]
     },
     "execution_count": 38,
     "metadata": {},
     "output_type": "execute_result"
    }
   ],
   "source": [
    "df2.dtypes[:20]"
   ]
  },
  {
   "cell_type": "code",
   "execution_count": 39,
   "id": "a88c5263",
   "metadata": {},
   "outputs": [],
   "source": [
    "columns=['Emission_Norm','Engine_Location','Fuel_System','Fuel_Tank_Capacity']"
   ]
  },
  {
   "cell_type": "code",
   "execution_count": 40,
   "id": "23d11c1f",
   "metadata": {},
   "outputs": [],
   "source": [
    "for i in columns:\n",
    "    df2[i].fillna(df2[i].value_counts().idxmax(),inplace=True)"
   ]
  },
  {
   "cell_type": "code",
   "execution_count": 41,
   "id": "237da397",
   "metadata": {},
   "outputs": [],
   "source": [
    "df2['Emission_Norm'].fillna('BS IV',inplace=True)"
   ]
  },
  {
   "cell_type": "code",
   "execution_count": 42,
   "id": "2bb94666",
   "metadata": {},
   "outputs": [],
   "source": [
    "df2['Engine_Location'].mode()\n",
    "df2['Engine_Location'].fillna('Front, Transverse',inplace=True)"
   ]
  },
  {
   "cell_type": "code",
   "execution_count": 43,
   "id": "1e52ae21",
   "metadata": {},
   "outputs": [
    {
     "data": {
      "text/plain": [
       "Unnamed: 0                 0\n",
       "Make                       0\n",
       "Model                      0\n",
       "Variant                    0\n",
       "Ex-Showroom_Price          0\n",
       "Displacement               0\n",
       "Cylinders                  0\n",
       "Valves_Per_Cylinder        0\n",
       "Drivetrain                 0\n",
       "Cylinder_Configuration    13\n",
       "Emission_Norm              0\n",
       "Engine_Location            0\n",
       "Fuel_System                0\n",
       "Fuel_Tank_Capacity         0\n",
       "Fuel_Type                  0\n",
       "Height                     1\n",
       "Length                     0\n",
       "Width                     12\n",
       "Body_Type                  6\n",
       "Doors                      4\n",
       "dtype: int64"
      ]
     },
     "execution_count": 43,
     "metadata": {},
     "output_type": "execute_result"
    }
   ],
   "source": [
    "df2.isnull().sum()[:20]"
   ]
  },
  {
   "cell_type": "code",
   "execution_count": 44,
   "id": "d7289c68",
   "metadata": {},
   "outputs": [],
   "source": [
    "df2.Height.fillna('1520 mm',inplace=True)\n",
    "df2.Width.fillna(df2.Width.value_counts().idxmax(),inplace=True)"
   ]
  },
  {
   "cell_type": "code",
   "execution_count": 45,
   "id": "9c46529c",
   "metadata": {},
   "outputs": [
    {
     "data": {
      "text/plain": [
       "Unnamed: 0                 0\n",
       "Make                       0\n",
       "Model                      0\n",
       "Variant                    0\n",
       "Ex-Showroom_Price          0\n",
       "Displacement               0\n",
       "Cylinders                  0\n",
       "Valves_Per_Cylinder        0\n",
       "Drivetrain                 0\n",
       "Cylinder_Configuration    13\n",
       "Emission_Norm              0\n",
       "Engine_Location            0\n",
       "Fuel_System                0\n",
       "Fuel_Tank_Capacity         0\n",
       "Fuel_Type                  0\n",
       "Height                     0\n",
       "Length                     0\n",
       "Width                      0\n",
       "Body_Type                  6\n",
       "Doors                      4\n",
       "dtype: int64"
      ]
     },
     "execution_count": 45,
     "metadata": {},
     "output_type": "execute_result"
    }
   ],
   "source": [
    "df2.isnull().sum()[:20]"
   ]
  },
  {
   "cell_type": "code",
   "execution_count": 46,
   "id": "69c51330",
   "metadata": {},
   "outputs": [
    {
     "data": {
      "text/plain": [
       "Unnamed: 0                          int64\n",
       "Make                               object\n",
       "Model                              object\n",
       "Variant                            object\n",
       "Ex-Showroom_Price                  object\n",
       "Displacement                       object\n",
       "Cylinders                         float64\n",
       "Valves_Per_Cylinder               float64\n",
       "Drivetrain                         object\n",
       "Cylinder_Configuration             object\n",
       "Emission_Norm                      object\n",
       "Engine_Location                    object\n",
       "Fuel_System                        object\n",
       "Fuel_Tank_Capacity                 object\n",
       "Fuel_Type                          object\n",
       "Height                             object\n",
       "Length                             object\n",
       "Width                              object\n",
       "Body_Type                          object\n",
       "Doors                             float64\n",
       "City_Mileage                       object\n",
       "Highway_Mileage                    object\n",
       "ARAI_Certified_Mileage             object\n",
       "ARAI_Certified_Mileage_for_CNG     object\n",
       "Kerb_Weight                        object\n",
       "Gears                              object\n",
       "Ground_Clearance                   object\n",
       "Front_Brakes                       object\n",
       "Rear_Brakes                        object\n",
       "Front_Suspension                   object\n",
       "dtype: object"
      ]
     },
     "execution_count": 46,
     "metadata": {},
     "output_type": "execute_result"
    }
   ],
   "source": [
    "df2.dtypes[:30]"
   ]
  },
  {
   "cell_type": "code",
   "execution_count": 47,
   "id": "8d199265",
   "metadata": {},
   "outputs": [],
   "source": [
    "df2.Body_Type.fillna('SUV',inplace=True)"
   ]
  },
  {
   "cell_type": "code",
   "execution_count": 48,
   "id": "c708b209",
   "metadata": {},
   "outputs": [],
   "source": [
    "df2.Doors.fillna(df2.Doors.median(),inplace=True)"
   ]
  },
  {
   "cell_type": "code",
   "execution_count": 49,
   "id": "d7e30bf2",
   "metadata": {},
   "outputs": [
    {
     "data": {
      "text/plain": [
       "Unnamed: 0                           0\n",
       "Make                                 0\n",
       "Model                                0\n",
       "Variant                              0\n",
       "Ex-Showroom_Price                    0\n",
       "Displacement                         0\n",
       "Cylinders                            0\n",
       "Valves_Per_Cylinder                  0\n",
       "Drivetrain                           0\n",
       "Cylinder_Configuration              13\n",
       "Emission_Norm                        0\n",
       "Engine_Location                      0\n",
       "Fuel_System                          0\n",
       "Fuel_Tank_Capacity                   0\n",
       "Fuel_Type                            0\n",
       "Height                               0\n",
       "Length                               0\n",
       "Width                                0\n",
       "Body_Type                            0\n",
       "Doors                                0\n",
       "City_Mileage                       555\n",
       "Highway_Mileage                    800\n",
       "ARAI_Certified_Mileage             114\n",
       "ARAI_Certified_Mileage_for_CNG    1249\n",
       "Kerb_Weight                        365\n",
       "Gears                              105\n",
       "Ground_Clearance                   289\n",
       "Front_Brakes                        25\n",
       "Rear_Brakes                         25\n",
       "Front_Suspension                    59\n",
       "dtype: int64"
      ]
     },
     "execution_count": 49,
     "metadata": {},
     "output_type": "execute_result"
    }
   ],
   "source": [
    "df2.isnull().sum()[:30]"
   ]
  },
  {
   "cell_type": "code",
   "execution_count": 50,
   "id": "e2cc7f49",
   "metadata": {
    "scrolled": true
   },
   "outputs": [
    {
     "name": "stderr",
     "output_type": "stream",
     "text": [
      "C:\\Users\\Aaditya\\AppData\\Local\\Temp\\ipykernel_38000\\3038687119.py:1: FutureWarning: The default value of regex will change from True to False in a future version. In addition, single character regular expressions will *not* be treated as literal strings when regex=True.\n",
      "  df2.City_Mileage=df2['City_Mileage'].str.replace('km/litre',\" \").str.replace(\"?\",\"\").str.replace(\",\",\".\")\n"
     ]
    }
   ],
   "source": [
    "df2.City_Mileage=df2['City_Mileage'].str.replace('km/litre',\" \").str.replace(\"?\",\"\").str.replace(\",\",\".\")"
   ]
  },
  {
   "cell_type": "code",
   "execution_count": 51,
   "id": "20515773",
   "metadata": {},
   "outputs": [],
   "source": [
    "df2.City_Mileage.fillna(0,inplace=True)\n",
    "df2['City_Mileage']=pd.to_numeric(df2['City_Mileage'],errors='coerce')"
   ]
  },
  {
   "cell_type": "code",
   "execution_count": 52,
   "id": "3a569e36",
   "metadata": {},
   "outputs": [
    {
     "data": {
      "text/plain": [
       "dtype('float64')"
      ]
     },
     "execution_count": 52,
     "metadata": {},
     "output_type": "execute_result"
    }
   ],
   "source": [
    "df2.City_Mileage.dtypes"
   ]
  },
  {
   "cell_type": "code",
   "execution_count": 53,
   "id": "8e4cd6cd",
   "metadata": {},
   "outputs": [
    {
     "data": {
      "text/plain": [
       "29.330250980392158"
      ]
     },
     "execution_count": 53,
     "metadata": {},
     "output_type": "execute_result"
    }
   ],
   "source": [
    "df2.City_Mileage.mean()"
   ]
  },
  {
   "cell_type": "code",
   "execution_count": 54,
   "id": "32fc8627",
   "metadata": {},
   "outputs": [
    {
     "data": {
      "text/plain": [
       "0.0"
      ]
     },
     "execution_count": 54,
     "metadata": {},
     "output_type": "execute_result"
    }
   ],
   "source": [
    "df2.City_Mileage[167]"
   ]
  },
  {
   "cell_type": "code",
   "execution_count": 55,
   "id": "b6d51071",
   "metadata": {},
   "outputs": [],
   "source": [
    "df2.City_Mileage=df2['City_Mileage'].replace(0,29.3)"
   ]
  },
  {
   "cell_type": "code",
   "execution_count": 56,
   "id": "a6ae2a0a",
   "metadata": {},
   "outputs": [
    {
     "data": {
      "text/plain": [
       "29.3"
      ]
     },
     "execution_count": 56,
     "metadata": {},
     "output_type": "execute_result"
    }
   ],
   "source": [
    "df2.City_Mileage[169]"
   ]
  },
  {
   "cell_type": "code",
   "execution_count": 57,
   "id": "3d52b397",
   "metadata": {},
   "outputs": [
    {
     "data": {
      "text/plain": [
       "Unnamed: 0                           0\n",
       "Make                                 0\n",
       "Model                                0\n",
       "Variant                              0\n",
       "Ex-Showroom_Price                    0\n",
       "Displacement                         0\n",
       "Cylinders                            0\n",
       "Valves_Per_Cylinder                  0\n",
       "Drivetrain                           0\n",
       "Cylinder_Configuration              13\n",
       "Emission_Norm                        0\n",
       "Engine_Location                      0\n",
       "Fuel_System                          0\n",
       "Fuel_Tank_Capacity                   0\n",
       "Fuel_Type                            0\n",
       "Height                               0\n",
       "Length                               0\n",
       "Width                                0\n",
       "Body_Type                            0\n",
       "Doors                                0\n",
       "City_Mileage                         1\n",
       "Highway_Mileage                    800\n",
       "ARAI_Certified_Mileage             114\n",
       "ARAI_Certified_Mileage_for_CNG    1249\n",
       "Kerb_Weight                        365\n",
       "Gears                              105\n",
       "Ground_Clearance                   289\n",
       "Front_Brakes                        25\n",
       "Rear_Brakes                         25\n",
       "Front_Suspension                    59\n",
       "dtype: int64"
      ]
     },
     "execution_count": 57,
     "metadata": {},
     "output_type": "execute_result"
    }
   ],
   "source": [
    "df2.isnull().sum()[:30]"
   ]
  },
  {
   "cell_type": "code",
   "execution_count": 58,
   "id": "30752153",
   "metadata": {},
   "outputs": [],
   "source": [
    "column2=['Highway_Mileage','ARAI_Certified_Mileage']\n"
   ]
  },
  {
   "cell_type": "code",
   "execution_count": 59,
   "id": "aa20d75f",
   "metadata": {
    "scrolled": false
   },
   "outputs": [
    {
     "name": "stderr",
     "output_type": "stream",
     "text": [
      "C:\\Users\\Aaditya\\AppData\\Local\\Temp\\ipykernel_38000\\1047760472.py:2: FutureWarning: The default value of regex will change from True to False in a future version. In addition, single character regular expressions will *not* be treated as literal strings when regex=True.\n",
      "  df2[i]=df2[i].str.replace('km/litre',\" \").str.replace(\"?\",\"\").str.replace(\",\",\".\").str.replace(\"km/kg\",\"\").str.replace(\"kg\",\"\")\n"
     ]
    }
   ],
   "source": [
    "for i in column2:\n",
    "    df2[i]=df2[i].str.replace('km/litre',\" \").str.replace(\"?\",\"\").str.replace(\",\",\".\").str.replace(\"km/kg\",\"\").str.replace(\"kg\",\"\")\n",
    "    df2[i].fillna(0)\n",
    "    df2[i]=pd.to_numeric(df2[i],errors='coerce')"
   ]
  },
  {
   "cell_type": "code",
   "execution_count": 60,
   "id": "49c8c5cf",
   "metadata": {},
   "outputs": [],
   "source": [
    "for i in column2:\n",
    "    df2[i]=df2[i].replace(0,df2[i].mean())"
   ]
  },
  {
   "cell_type": "code",
   "execution_count": 61,
   "id": "a1abeb15",
   "metadata": {
    "scrolled": true
   },
   "outputs": [
    {
     "data": {
      "text/plain": [
       "Unnamed: 0                           0\n",
       "Make                                 0\n",
       "Model                                0\n",
       "Variant                              0\n",
       "Ex-Showroom_Price                    0\n",
       "Displacement                         0\n",
       "Cylinders                            0\n",
       "Valves_Per_Cylinder                  0\n",
       "Drivetrain                           0\n",
       "Cylinder_Configuration              13\n",
       "Emission_Norm                        0\n",
       "Engine_Location                      0\n",
       "Fuel_System                          0\n",
       "Fuel_Tank_Capacity                   0\n",
       "Fuel_Type                            0\n",
       "Height                               0\n",
       "Length                               0\n",
       "Width                                0\n",
       "Body_Type                            0\n",
       "Doors                                0\n",
       "City_Mileage                         1\n",
       "Highway_Mileage                    801\n",
       "ARAI_Certified_Mileage             117\n",
       "ARAI_Certified_Mileage_for_CNG    1249\n",
       "Kerb_Weight                        365\n",
       "Gears                              105\n",
       "Ground_Clearance                   289\n",
       "Front_Brakes                        25\n",
       "Rear_Brakes                         25\n",
       "Front_Suspension                    59\n",
       "dtype: int64"
      ]
     },
     "execution_count": 61,
     "metadata": {},
     "output_type": "execute_result"
    }
   ],
   "source": [
    "df2.isnull().sum()[:30]"
   ]
  },
  {
   "cell_type": "code",
   "execution_count": 62,
   "id": "d9a55e1b",
   "metadata": {},
   "outputs": [],
   "source": [
    "for i in column2:\n",
    "    df2[i].fillna(0,inplace=True)"
   ]
  },
  {
   "cell_type": "code",
   "execution_count": 63,
   "id": "82f90a75",
   "metadata": {},
   "outputs": [],
   "source": [
    "col3=['ARAI_Certified_Mileage_for_CNG','Kerb_Weight']\n"
   ]
  },
  {
   "cell_type": "code",
   "execution_count": 64,
   "id": "7596edc2",
   "metadata": {},
   "outputs": [
    {
     "name": "stderr",
     "output_type": "stream",
     "text": [
      "C:\\Users\\Aaditya\\AppData\\Local\\Temp\\ipykernel_38000\\1953913140.py:2: FutureWarning: The default value of regex will change from True to False in a future version. In addition, single character regular expressions will *not* be treated as literal strings when regex=True.\n",
      "  df2[i]=df2[i].str.replace('km/litre',\" \").str.replace(\"?\",\"\").str.replace(\",\",\".\").str.replace(\"km/kg\",\"\").str.replace(\"kg\",\"\")\n"
     ]
    }
   ],
   "source": [
    "for i in col3:\n",
    "    df2[i]=df2[i].str.replace('km/litre',\" \").str.replace(\"?\",\"\").str.replace(\",\",\".\").str.replace(\"km/kg\",\"\").str.replace(\"kg\",\"\")\n",
    "    \n",
    "    "
   ]
  },
  {
   "cell_type": "code",
   "execution_count": 65,
   "id": "e4f678f9",
   "metadata": {},
   "outputs": [
    {
     "data": {
      "text/plain": [
       "0       NaN\n",
       "1       NaN\n",
       "2       36 \n",
       "3       NaN\n",
       "4       NaN\n",
       "       ... \n",
       "1271    NaN\n",
       "1272    NaN\n",
       "1273    NaN\n",
       "1274    NaN\n",
       "1275    NaN\n",
       "Name: ARAI_Certified_Mileage_for_CNG, Length: 1276, dtype: object"
      ]
     },
     "execution_count": 65,
     "metadata": {},
     "output_type": "execute_result"
    }
   ],
   "source": [
    "df2.ARAI_Certified_Mileage_for_CNG"
   ]
  },
  {
   "cell_type": "code",
   "execution_count": 66,
   "id": "c0d61d3f",
   "metadata": {},
   "outputs": [],
   "source": [
    "for i in col3:\n",
    "    df2[i].fillna(0)\n",
    "    df2[i]=pd.to_numeric(df2[i],errors='coerce')\n",
    "    df2[i]=df2[i].replace(0,df2[i].mean())"
   ]
  },
  {
   "cell_type": "code",
   "execution_count": 67,
   "id": "16383bb5",
   "metadata": {},
   "outputs": [],
   "source": [
    "for i in col3:\n",
    "    df2[i].fillna(0,inplace=True)\n",
    "    df2[i]=pd.to_numeric(df2[i],errors='coerce')\n",
    "    df2[i]=df2[i].replace(0.500603,14.16)"
   ]
  },
  {
   "cell_type": "code",
   "execution_count": 68,
   "id": "e9d81d4a",
   "metadata": {},
   "outputs": [
    {
     "data": {
      "text/plain": [
       "0.00     1249\n",
       "14.16       5\n",
       "25.00       4\n",
       "30.48       2\n",
       "13.96       2\n",
       "33.54       2\n",
       "20.00       2\n",
       "31.76       1\n",
       "26.60       1\n",
       "36.00       1\n",
       "20.40       1\n",
       "43.00       1\n",
       "31.79       1\n",
       "18.90       1\n",
       "32.26       1\n",
       "10.80       1\n",
       "20.50       1\n",
       "Name: ARAI_Certified_Mileage_for_CNG, dtype: int64"
      ]
     },
     "execution_count": 68,
     "metadata": {},
     "output_type": "execute_result"
    }
   ],
   "source": [
    "df2.ARAI_Certified_Mileage_for_CNG.value_counts()"
   ]
  },
  {
   "cell_type": "code",
   "execution_count": 69,
   "id": "f4cdb0ee",
   "metadata": {},
   "outputs": [],
   "source": [
    "\n",
    "    df2['ARAI_Certified_Mileage_for_CNG']=df2['ARAI_Certified_Mileage_for_CNG'].replace(0.500603,14.16)"
   ]
  },
  {
   "cell_type": "code",
   "execution_count": 70,
   "id": "c6992f8c",
   "metadata": {},
   "outputs": [
    {
     "data": {
      "text/plain": [
       "1263"
      ]
     },
     "execution_count": 70,
     "metadata": {},
     "output_type": "execute_result"
    }
   ],
   "source": [
    "df2.isnull().sum()[139]"
   ]
  },
  {
   "cell_type": "code",
   "execution_count": 71,
   "id": "935c12e7",
   "metadata": {},
   "outputs": [],
   "source": [
    "df2.Gears.fillna(5,inplace=True)"
   ]
  },
  {
   "cell_type": "code",
   "execution_count": 72,
   "id": "232ac96e",
   "metadata": {},
   "outputs": [
    {
     "name": "stderr",
     "output_type": "stream",
     "text": [
      "C:\\Users\\Aaditya\\AppData\\Local\\Temp\\ipykernel_38000\\3044114041.py:1: FutureWarning: The default value of regex will change from True to False in a future version. In addition, single character regular expressions will *not* be treated as literal strings when regex=True.\n",
      "  df2.Ground_Clearance=df2.Ground_Clearance.str.replace('mm',\" \").str.replace(\"?\",\"\").str.replace(\",\",\".\").str.replace(\"km/kg\",\"\").str.replace(\"kg\",\"\")\n"
     ]
    }
   ],
   "source": [
    "    df2.Ground_Clearance=df2.Ground_Clearance.str.replace('mm',\" \").str.replace(\"?\",\"\").str.replace(\",\",\".\").str.replace(\"km/kg\",\"\").str.replace(\"kg\",\"\")\n",
    "\n",
    "df2.Ground_Clearance=pd.to_numeric(df2.Ground_Clearance,errors='coerce')"
   ]
  },
  {
   "cell_type": "code",
   "execution_count": 73,
   "id": "5bdba4f5",
   "metadata": {},
   "outputs": [],
   "source": [
    "df2.Ground_Clearance.fillna(df2.Ground_Clearance.mean(),inplace=True)"
   ]
  },
  {
   "cell_type": "code",
   "execution_count": 74,
   "id": "2d7f8854",
   "metadata": {},
   "outputs": [],
   "source": [
    "df2.Front_Brakes.fillna('Ventilated Disc',inplace=True)"
   ]
  },
  {
   "cell_type": "code",
   "execution_count": 75,
   "id": "8ab831b7",
   "metadata": {},
   "outputs": [],
   "source": [
    "df2.Rear_Brakes.fillna('Drum',inplace=True)"
   ]
  },
  {
   "cell_type": "code",
   "execution_count": 76,
   "id": "1b625ee4",
   "metadata": {},
   "outputs": [],
   "source": [
    "col4=['Front_Suspension','Rear_Suspension','Front_Tyre_&_Rim','Rear_Tyre_&_Rim','Power_Steering','Power_Windows','Power_Seats','Keyless_Entry'\n",
    ",'Power','Torque','Odometer','Speedometer','Tachometer','Seats_Material','Type','Wheels_Size','Audiosystem','Boot-lid_Opener','Clock'\n",
    ",'Cup_Holders','Door_Pockets','Fuel-lid_Opener','Fuel_Gauge','Handbrake','Instrument_Console','Sun_Visor','Third_Row_AC_Vents','Ventilation_System']\n"
   ]
  },
  {
   "cell_type": "code",
   "execution_count": 77,
   "id": "97302f4f",
   "metadata": {},
   "outputs": [],
   "source": [
    "for i in col4:\n",
    "    df2[i].fillna(df2[i].value_counts()\n",
    ".idxmax(), inplace=True)"
   ]
  },
  {
   "cell_type": "code",
   "execution_count": 78,
   "id": "1806935f",
   "metadata": {},
   "outputs": [
    {
     "data": {
      "text/plain": [
       "Unnamed: 0              0\n",
       "Make                    0\n",
       "Model                   0\n",
       "Variant                 0\n",
       "Ex-Showroom_Price       0\n",
       "                     ... \n",
       "USB_Ports            1247\n",
       "Heads-Up_Display     1225\n",
       "Welcome_Lights       1207\n",
       "Battery              1263\n",
       "Electric_Range       1259\n",
       "Length: 141, dtype: int64"
      ]
     },
     "execution_count": 78,
     "metadata": {},
     "output_type": "execute_result"
    }
   ],
   "source": [
    "df2.isnull().sum()"
   ]
  },
  {
   "cell_type": "code",
   "execution_count": 79,
   "id": "e55db6e9",
   "metadata": {},
   "outputs": [],
   "source": [
    "col5=['Start_/_Stop_Button','12v_Power_Outlet','Aux-in_Compatibility','Average_Fuel_Consumption','CD_/_MP3_/_DVD_Player','Central_Locking','Child_Safety_Locks','Distance_to_Empty','Low_Fuel_Warning',\n",
    "      'Engine_Malfunction_Light','Multifunction_Display','Hill_Assist','Gear_Indicator','Engine_Immobilizer','Ambient_Lightning','Cargo/Boot_Lights','High_Speed_Alert_System',\n",
    "      'Passenger_Side_Seat-Belt_Reminder','Seat_Back_Pockets','Voice_Recognition','Walk_Away_Auto_Car_Lock','ABS_(Anti-lock_Braking_System)','Headlight_Reminder',\n",
    "      'Door_Ajar_Warning','EBD_(Electronic_Brake-force_Distribution)','Fasten_Seat_Belt_Warning','Gear_Shift_Reminder','USB_Compatibility','Android_Auto',\n",
    "      'Apple_CarPlay','Cigarette_Lighter'\n",
    "\n",
    "]"
   ]
  },
  {
   "cell_type": "code",
   "execution_count": 80,
   "id": "25304a50",
   "metadata": {},
   "outputs": [],
   "source": [
    "for i in col5:\n",
    "    df2[i].fillna('NA',inplace=True)"
   ]
  },
  {
   "cell_type": "code",
   "execution_count": 81,
   "id": "b05b1c28",
   "metadata": {},
   "outputs": [
    {
     "data": {
      "text/plain": [
       "0"
      ]
     },
     "execution_count": 81,
     "metadata": {},
     "output_type": "execute_result"
    }
   ],
   "source": [
    "df2.Hill_Assist.isnull().sum()\n",
    "                  "
   ]
  },
  {
   "cell_type": "code",
   "execution_count": 82,
   "id": "c82cf419",
   "metadata": {},
   "outputs": [],
   "source": [
    "col6=['Average_Speed','EBA_(Electronic_Brake_Assist)','Navigation_System','Rear_Center_Armrest','Tyre_Pressure_Monitoring_System','iPod_Compatibility','ESP_(Electronic_Stability_Program)'\n",
    "      ,'Cooled_Glove_Box','Recommended_Tyre_Pressure','Rain_Sensing_Wipers','Turbocharger','Heated_Seats','ISOFIX_(Child-Seat_Mount)'\n",
    "      ,'Leather_Wrapped_Steering','Rain_Sensing_Wipers','Paddle_Shifters','Leather_Wrapped_Steering','Automatic_Headlamps','Engine_Type','ASR_/_Traction_Control','Cruise_Control','USB_Ports'\n",
    "      ,'Heads-Up_Display','Welcome_Lights','Battery','Tripmeter','Electric_Range','FM_Radio'\n",
    ",'Auto-Dimming_Rear-View_Mirror','3_Point_Seat-Belt_in_Middle_Rear_Seat','Drive_Modes','Lane_Watch_Camera/_Side_Mirror_Camera','Adjustable_Headrests','Gross_Vehicle_Weight','Number_of_Airbags', 'Compression_Ratio',\n",
    " 'Adjustable_Steering_Column',\n",
    " 'Other_Specs',\n",
    " 'Other_specs',\n",
    " 'Parking_Assistance',\n",
    " 'Key_Off_Reminder',\n",
    " 'Infotainment_Screen',\n",
    " 'Multifunction_Steering_Wheel',\n",
    " 'Seat_Height_Adjustment',\n",
    " 'Second_Row_AC_Vents']"
   ]
  },
  {
   "cell_type": "code",
   "execution_count": 83,
   "id": "bbebf681",
   "metadata": {},
   "outputs": [],
   "source": [
    "for i in col6:\n",
    "    df2[i].fillna('NA',inplace=True)"
   ]
  },
  {
   "cell_type": "code",
   "execution_count": 84,
   "id": "8203791a",
   "metadata": {
    "scrolled": true
   },
   "outputs": [
    {
     "data": {
      "text/plain": [
       "['Cylinder_Configuration',\n",
       " 'City_Mileage',\n",
       " 'Front_Track',\n",
       " 'Rear_Track',\n",
       " 'Seating_Capacity',\n",
       " 'Wheelbase',\n",
       " 'Basic_Warranty',\n",
       " 'Bluetooth',\n",
       " 'Boot_Space',\n",
       " 'Extended_Warranty',\n",
       " 'Minimum_Turning_Radius',\n",
       " 'Airbags']"
      ]
     },
     "execution_count": 84,
     "metadata": {},
     "output_type": "execute_result"
    }
   ],
   "source": [
    "df2.columns[df2.isna().any()].tolist()"
   ]
  },
  {
   "cell_type": "code",
   "execution_count": 85,
   "id": "e454862e",
   "metadata": {},
   "outputs": [],
   "source": [
    "col7=['Basic_Warranty','Cylinder_Configuration','Fuel_System','Bluetooth', 'Extended_Warranty']"
   ]
  },
  {
   "cell_type": "code",
   "execution_count": 86,
   "id": "9b27d489",
   "metadata": {},
   "outputs": [],
   "source": [
    "for i in col7:\n",
    "     df2[i].fillna(df2[i].value_counts().idxmax(), inplace=True)"
   ]
  },
  {
   "cell_type": "code",
   "execution_count": 87,
   "id": "04cac24e",
   "metadata": {},
   "outputs": [],
   "source": [
    "for i in col7:\n",
    "    df2[i]=df2[i].str.replace('km/litre',\" \").str.replace(\"litres\",\" \").str.replace(\",\",\".\").str.replace(\"mm\",\" \").str.replace(\"kg\",\"\")\n",
    "    "
   ]
  },
  {
   "cell_type": "code",
   "execution_count": 88,
   "id": "7c946bad",
   "metadata": {},
   "outputs": [],
   "source": [
    "col8=['Fuel_Tank_Capacity',\n",
    " 'Front_Track',\n",
    " 'Rear_Track']"
   ]
  },
  {
   "cell_type": "code",
   "execution_count": 89,
   "id": "2d29e7c6",
   "metadata": {},
   "outputs": [],
   "source": [
    "for i in col8:\n",
    "\n",
    "    df2[i]=df2[i].str.replace('km/litre',\" \").str.replace(\"litres\",\" \").str.replace(\",\",\".\").str.replace(\"mm\",\" \").str.replace(\"kg\",\"\")\n",
    "    "
   ]
  },
  {
   "cell_type": "code",
   "execution_count": 90,
   "id": "c330739c",
   "metadata": {},
   "outputs": [
    {
     "ename": "NameError",
     "evalue": "name 'math' is not defined",
     "output_type": "error",
     "traceback": [
      "\u001b[1;31m---------------------------------------------------------------------------\u001b[0m",
      "\u001b[1;31mNameError\u001b[0m                                 Traceback (most recent call last)",
      "Input \u001b[1;32mIn [90]\u001b[0m, in \u001b[0;36m<cell line: 1>\u001b[1;34m()\u001b[0m\n\u001b[0;32m      1\u001b[0m \u001b[38;5;28;01mfor\u001b[39;00m i \u001b[38;5;129;01min\u001b[39;00m col8:\n\u001b[0;32m      2\u001b[0m    df2[i]\u001b[38;5;241m=\u001b[39mpd\u001b[38;5;241m.\u001b[39mto_numeric(df2[i],errors\u001b[38;5;241m=\u001b[39m\u001b[38;5;124m'\u001b[39m\u001b[38;5;124mcoerce\u001b[39m\u001b[38;5;124m'\u001b[39m)\n\u001b[1;32m----> 3\u001b[0m    df2\u001b[38;5;241m.\u001b[39mfillna(\u001b[43mmath\u001b[49m\u001b[38;5;241m.\u001b[39mfloor(df2[i]\u001b[38;5;241m.\u001b[39mmean()),inplace\u001b[38;5;241m=\u001b[39m\u001b[38;5;28;01mTrue\u001b[39;00m)\n",
      "\u001b[1;31mNameError\u001b[0m: name 'math' is not defined"
     ]
    }
   ],
   "source": [
    " for i in col8:\n",
    "    df2[i]=pd.to_numeric(df2[i],errors='coerce')\n",
    "    df2.fillna(math.floor(df2[i].mean()),inplace=True)"
   ]
  },
  {
   "cell_type": "code",
   "execution_count": 91,
   "id": "d81a9de2",
   "metadata": {},
   "outputs": [
    {
     "data": {
      "text/plain": [
       "51.734247648902816"
      ]
     },
     "execution_count": 91,
     "metadata": {},
     "output_type": "execute_result"
    }
   ],
   "source": [
    "df2.Fuel_Tank_Capacity.mean()"
   ]
  },
  {
   "cell_type": "code",
   "execution_count": 92,
   "id": "5e3a12bb",
   "metadata": {},
   "outputs": [],
   "source": [
    "x=df2.Fuel_Tank_Capacity.mean()"
   ]
  },
  {
   "cell_type": "code",
   "execution_count": 93,
   "id": "111ea458",
   "metadata": {},
   "outputs": [],
   "source": [
    "import math"
   ]
  },
  {
   "cell_type": "code",
   "execution_count": 94,
   "id": "5288bd32",
   "metadata": {},
   "outputs": [
    {
     "data": {
      "text/plain": [
       "0       24.0\n",
       "1       24.0\n",
       "2       15.0\n",
       "3       24.0\n",
       "4       24.0\n",
       "        ... \n",
       "1271    40.0\n",
       "1272    40.0\n",
       "1273    40.0\n",
       "1274    40.0\n",
       "1275    88.0\n",
       "Name: Fuel_Tank_Capacity, Length: 1276, dtype: float64"
      ]
     },
     "execution_count": 94,
     "metadata": {},
     "output_type": "execute_result"
    }
   ],
   "source": [
    "df2.Fuel_Tank_Capacity"
   ]
  },
  {
   "cell_type": "code",
   "execution_count": 95,
   "id": "80429d7b",
   "metadata": {},
   "outputs": [
    {
     "data": {
      "text/plain": [
       "['City_Mileage',\n",
       " 'Front_Track',\n",
       " 'Rear_Track',\n",
       " 'Seating_Capacity',\n",
       " 'Wheelbase',\n",
       " 'Boot_Space',\n",
       " 'Minimum_Turning_Radius',\n",
       " 'Airbags']"
      ]
     },
     "execution_count": 95,
     "metadata": {},
     "output_type": "execute_result"
    }
   ],
   "source": [
    "df2.columns[df2.isna().any()].tolist()"
   ]
  },
  {
   "cell_type": "code",
   "execution_count": 96,
   "id": "2edf4161",
   "metadata": {},
   "outputs": [
    {
     "data": {
      "text/html": [
       "<div>\n",
       "<style scoped>\n",
       "    .dataframe tbody tr th:only-of-type {\n",
       "        vertical-align: middle;\n",
       "    }\n",
       "\n",
       "    .dataframe tbody tr th {\n",
       "        vertical-align: top;\n",
       "    }\n",
       "\n",
       "    .dataframe thead th {\n",
       "        text-align: right;\n",
       "    }\n",
       "</style>\n",
       "<table border=\"1\" class=\"dataframe\">\n",
       "  <thead>\n",
       "    <tr style=\"text-align: right;\">\n",
       "      <th></th>\n",
       "      <th>Unnamed: 0</th>\n",
       "      <th>Make</th>\n",
       "      <th>Model</th>\n",
       "      <th>Variant</th>\n",
       "      <th>Ex-Showroom_Price</th>\n",
       "      <th>Displacement</th>\n",
       "      <th>Cylinders</th>\n",
       "      <th>Valves_Per_Cylinder</th>\n",
       "      <th>Drivetrain</th>\n",
       "      <th>Cylinder_Configuration</th>\n",
       "      <th>...</th>\n",
       "      <th>Leather_Wrapped_Steering</th>\n",
       "      <th>Automatic_Headlamps</th>\n",
       "      <th>Engine_Type</th>\n",
       "      <th>ASR_/_Traction_Control</th>\n",
       "      <th>Cruise_Control</th>\n",
       "      <th>USB_Ports</th>\n",
       "      <th>Heads-Up_Display</th>\n",
       "      <th>Welcome_Lights</th>\n",
       "      <th>Battery</th>\n",
       "      <th>Electric_Range</th>\n",
       "    </tr>\n",
       "  </thead>\n",
       "  <tbody>\n",
       "    <tr>\n",
       "      <th>0</th>\n",
       "      <td>0</td>\n",
       "      <td>Tata</td>\n",
       "      <td>Nano Genx</td>\n",
       "      <td>Xt</td>\n",
       "      <td>Rs. 2,92,667</td>\n",
       "      <td>624 cc</td>\n",
       "      <td>2.0</td>\n",
       "      <td>2.0</td>\n",
       "      <td>RWD (Rear Wheel Drive)</td>\n",
       "      <td>In-line</td>\n",
       "      <td>...</td>\n",
       "      <td>NA</td>\n",
       "      <td>NA</td>\n",
       "      <td>NA</td>\n",
       "      <td>NA</td>\n",
       "      <td>NA</td>\n",
       "      <td>NA</td>\n",
       "      <td>NA</td>\n",
       "      <td>NA</td>\n",
       "      <td>NA</td>\n",
       "      <td>NA</td>\n",
       "    </tr>\n",
       "    <tr>\n",
       "      <th>1</th>\n",
       "      <td>1</td>\n",
       "      <td>Tata</td>\n",
       "      <td>Nano Genx</td>\n",
       "      <td>Xe</td>\n",
       "      <td>Rs. 2,36,447</td>\n",
       "      <td>624 cc</td>\n",
       "      <td>2.0</td>\n",
       "      <td>2.0</td>\n",
       "      <td>RWD (Rear Wheel Drive)</td>\n",
       "      <td>In-line</td>\n",
       "      <td>...</td>\n",
       "      <td>NA</td>\n",
       "      <td>NA</td>\n",
       "      <td>NA</td>\n",
       "      <td>NA</td>\n",
       "      <td>NA</td>\n",
       "      <td>NA</td>\n",
       "      <td>NA</td>\n",
       "      <td>NA</td>\n",
       "      <td>NA</td>\n",
       "      <td>NA</td>\n",
       "    </tr>\n",
       "    <tr>\n",
       "      <th>2</th>\n",
       "      <td>2</td>\n",
       "      <td>Tata</td>\n",
       "      <td>Nano Genx</td>\n",
       "      <td>Emax Xm</td>\n",
       "      <td>Rs. 2,96,661</td>\n",
       "      <td>624 cc</td>\n",
       "      <td>2.0</td>\n",
       "      <td>2.0</td>\n",
       "      <td>RWD (Rear Wheel Drive)</td>\n",
       "      <td>In-line</td>\n",
       "      <td>...</td>\n",
       "      <td>NA</td>\n",
       "      <td>NA</td>\n",
       "      <td>NA</td>\n",
       "      <td>NA</td>\n",
       "      <td>NA</td>\n",
       "      <td>NA</td>\n",
       "      <td>NA</td>\n",
       "      <td>NA</td>\n",
       "      <td>NA</td>\n",
       "      <td>NA</td>\n",
       "    </tr>\n",
       "    <tr>\n",
       "      <th>3</th>\n",
       "      <td>3</td>\n",
       "      <td>Tata</td>\n",
       "      <td>Nano Genx</td>\n",
       "      <td>Xta</td>\n",
       "      <td>Rs. 3,34,768</td>\n",
       "      <td>624 cc</td>\n",
       "      <td>2.0</td>\n",
       "      <td>2.0</td>\n",
       "      <td>RWD (Rear Wheel Drive)</td>\n",
       "      <td>In-line</td>\n",
       "      <td>...</td>\n",
       "      <td>NA</td>\n",
       "      <td>NA</td>\n",
       "      <td>NA</td>\n",
       "      <td>NA</td>\n",
       "      <td>NA</td>\n",
       "      <td>NA</td>\n",
       "      <td>NA</td>\n",
       "      <td>NA</td>\n",
       "      <td>NA</td>\n",
       "      <td>NA</td>\n",
       "    </tr>\n",
       "    <tr>\n",
       "      <th>4</th>\n",
       "      <td>4</td>\n",
       "      <td>Tata</td>\n",
       "      <td>Nano Genx</td>\n",
       "      <td>Xm</td>\n",
       "      <td>Rs. 2,72,223</td>\n",
       "      <td>624 cc</td>\n",
       "      <td>2.0</td>\n",
       "      <td>2.0</td>\n",
       "      <td>RWD (Rear Wheel Drive)</td>\n",
       "      <td>In-line</td>\n",
       "      <td>...</td>\n",
       "      <td>NA</td>\n",
       "      <td>NA</td>\n",
       "      <td>NA</td>\n",
       "      <td>NA</td>\n",
       "      <td>NA</td>\n",
       "      <td>NA</td>\n",
       "      <td>NA</td>\n",
       "      <td>NA</td>\n",
       "      <td>NA</td>\n",
       "      <td>NA</td>\n",
       "    </tr>\n",
       "    <tr>\n",
       "      <th>...</th>\n",
       "      <td>...</td>\n",
       "      <td>...</td>\n",
       "      <td>...</td>\n",
       "      <td>...</td>\n",
       "      <td>...</td>\n",
       "      <td>...</td>\n",
       "      <td>...</td>\n",
       "      <td>...</td>\n",
       "      <td>...</td>\n",
       "      <td>...</td>\n",
       "      <td>...</td>\n",
       "      <td>...</td>\n",
       "      <td>...</td>\n",
       "      <td>...</td>\n",
       "      <td>...</td>\n",
       "      <td>...</td>\n",
       "      <td>...</td>\n",
       "      <td>...</td>\n",
       "      <td>...</td>\n",
       "      <td>...</td>\n",
       "      <td>...</td>\n",
       "    </tr>\n",
       "    <tr>\n",
       "      <th>1271</th>\n",
       "      <td>1271</td>\n",
       "      <td>Honda</td>\n",
       "      <td>City</td>\n",
       "      <td>Vx Mt Diesel</td>\n",
       "      <td>Rs. 13,02,000</td>\n",
       "      <td>1498 cc</td>\n",
       "      <td>4.0</td>\n",
       "      <td>4.0</td>\n",
       "      <td>FWD (Front Wheel Drive)</td>\n",
       "      <td>In-line</td>\n",
       "      <td>...</td>\n",
       "      <td>Yes</td>\n",
       "      <td>NA</td>\n",
       "      <td>NA</td>\n",
       "      <td>NA</td>\n",
       "      <td>Yes</td>\n",
       "      <td>NA</td>\n",
       "      <td>NA</td>\n",
       "      <td>NA</td>\n",
       "      <td>NA</td>\n",
       "      <td>NA</td>\n",
       "    </tr>\n",
       "    <tr>\n",
       "      <th>1272</th>\n",
       "      <td>1272</td>\n",
       "      <td>Honda</td>\n",
       "      <td>City</td>\n",
       "      <td>Zx Mt Diesel</td>\n",
       "      <td>Rs. 14,21,000</td>\n",
       "      <td>1498 cc</td>\n",
       "      <td>4.0</td>\n",
       "      <td>4.0</td>\n",
       "      <td>FWD (Front Wheel Drive)</td>\n",
       "      <td>In-line</td>\n",
       "      <td>...</td>\n",
       "      <td>Yes</td>\n",
       "      <td>Yes</td>\n",
       "      <td>NA</td>\n",
       "      <td>NA</td>\n",
       "      <td>Yes</td>\n",
       "      <td>NA</td>\n",
       "      <td>NA</td>\n",
       "      <td>NA</td>\n",
       "      <td>NA</td>\n",
       "      <td>NA</td>\n",
       "    </tr>\n",
       "    <tr>\n",
       "      <th>1273</th>\n",
       "      <td>1273</td>\n",
       "      <td>Honda</td>\n",
       "      <td>City</td>\n",
       "      <td>Zx Cvt Petrol</td>\n",
       "      <td>Rs. 14,31,000</td>\n",
       "      <td>1497 cc</td>\n",
       "      <td>4.0</td>\n",
       "      <td>4.0</td>\n",
       "      <td>FWD (Front Wheel Drive)</td>\n",
       "      <td>In-line</td>\n",
       "      <td>...</td>\n",
       "      <td>Yes</td>\n",
       "      <td>Yes</td>\n",
       "      <td>NA</td>\n",
       "      <td>NA</td>\n",
       "      <td>Yes</td>\n",
       "      <td>NA</td>\n",
       "      <td>NA</td>\n",
       "      <td>NA</td>\n",
       "      <td>NA</td>\n",
       "      <td>NA</td>\n",
       "    </tr>\n",
       "    <tr>\n",
       "      <th>1274</th>\n",
       "      <td>1274</td>\n",
       "      <td>Honda</td>\n",
       "      <td>City</td>\n",
       "      <td>V Cvt Petrol</td>\n",
       "      <td>Rs. 12,01,000</td>\n",
       "      <td>1497 cc</td>\n",
       "      <td>4.0</td>\n",
       "      <td>4.0</td>\n",
       "      <td>FWD (Front Wheel Drive)</td>\n",
       "      <td>In-line</td>\n",
       "      <td>...</td>\n",
       "      <td>NA</td>\n",
       "      <td>NA</td>\n",
       "      <td>NA</td>\n",
       "      <td>NA</td>\n",
       "      <td>Yes</td>\n",
       "      <td>NA</td>\n",
       "      <td>NA</td>\n",
       "      <td>NA</td>\n",
       "      <td>NA</td>\n",
       "      <td>NA</td>\n",
       "    </tr>\n",
       "    <tr>\n",
       "      <th>1275</th>\n",
       "      <td>1275</td>\n",
       "      <td>Mitsubishi</td>\n",
       "      <td>Montero</td>\n",
       "      <td>3.2 At</td>\n",
       "      <td>Rs. 68,62,560</td>\n",
       "      <td>3200 cc</td>\n",
       "      <td>4.0</td>\n",
       "      <td>4.0</td>\n",
       "      <td>AWD (All Wheel Drive)</td>\n",
       "      <td>In-line</td>\n",
       "      <td>...</td>\n",
       "      <td>Yes</td>\n",
       "      <td>NA</td>\n",
       "      <td>NA</td>\n",
       "      <td>Yes</td>\n",
       "      <td>Yes</td>\n",
       "      <td>NA</td>\n",
       "      <td>NA</td>\n",
       "      <td>NA</td>\n",
       "      <td>NA</td>\n",
       "      <td>NA</td>\n",
       "    </tr>\n",
       "  </tbody>\n",
       "</table>\n",
       "<p>1276 rows × 141 columns</p>\n",
       "</div>"
      ],
      "text/plain": [
       "      Unnamed: 0        Make      Model        Variant Ex-Showroom_Price  \\\n",
       "0              0        Tata  Nano Genx             Xt      Rs. 2,92,667   \n",
       "1              1        Tata  Nano Genx             Xe      Rs. 2,36,447   \n",
       "2              2        Tata  Nano Genx        Emax Xm      Rs. 2,96,661   \n",
       "3              3        Tata  Nano Genx            Xta      Rs. 3,34,768   \n",
       "4              4        Tata  Nano Genx             Xm      Rs. 2,72,223   \n",
       "...          ...         ...        ...            ...               ...   \n",
       "1271        1271       Honda       City   Vx Mt Diesel     Rs. 13,02,000   \n",
       "1272        1272       Honda       City   Zx Mt Diesel     Rs. 14,21,000   \n",
       "1273        1273       Honda       City  Zx Cvt Petrol     Rs. 14,31,000   \n",
       "1274        1274       Honda       City   V Cvt Petrol     Rs. 12,01,000   \n",
       "1275        1275  Mitsubishi    Montero         3.2 At     Rs. 68,62,560   \n",
       "\n",
       "     Displacement  Cylinders  Valves_Per_Cylinder               Drivetrain  \\\n",
       "0          624 cc        2.0                  2.0   RWD (Rear Wheel Drive)   \n",
       "1          624 cc        2.0                  2.0   RWD (Rear Wheel Drive)   \n",
       "2          624 cc        2.0                  2.0   RWD (Rear Wheel Drive)   \n",
       "3          624 cc        2.0                  2.0   RWD (Rear Wheel Drive)   \n",
       "4          624 cc        2.0                  2.0   RWD (Rear Wheel Drive)   \n",
       "...           ...        ...                  ...                      ...   \n",
       "1271      1498 cc        4.0                  4.0  FWD (Front Wheel Drive)   \n",
       "1272      1498 cc        4.0                  4.0  FWD (Front Wheel Drive)   \n",
       "1273      1497 cc        4.0                  4.0  FWD (Front Wheel Drive)   \n",
       "1274      1497 cc        4.0                  4.0  FWD (Front Wheel Drive)   \n",
       "1275      3200 cc        4.0                  4.0    AWD (All Wheel Drive)   \n",
       "\n",
       "     Cylinder_Configuration  ... Leather_Wrapped_Steering Automatic_Headlamps  \\\n",
       "0                   In-line  ...                       NA                  NA   \n",
       "1                   In-line  ...                       NA                  NA   \n",
       "2                   In-line  ...                       NA                  NA   \n",
       "3                   In-line  ...                       NA                  NA   \n",
       "4                   In-line  ...                       NA                  NA   \n",
       "...                     ...  ...                      ...                 ...   \n",
       "1271                In-line  ...                      Yes                  NA   \n",
       "1272                In-line  ...                      Yes                 Yes   \n",
       "1273                In-line  ...                      Yes                 Yes   \n",
       "1274                In-line  ...                       NA                  NA   \n",
       "1275                In-line  ...                      Yes                  NA   \n",
       "\n",
       "     Engine_Type  ASR_/_Traction_Control Cruise_Control USB_Ports  \\\n",
       "0             NA                      NA             NA        NA   \n",
       "1             NA                      NA             NA        NA   \n",
       "2             NA                      NA             NA        NA   \n",
       "3             NA                      NA             NA        NA   \n",
       "4             NA                      NA             NA        NA   \n",
       "...          ...                     ...            ...       ...   \n",
       "1271          NA                      NA            Yes        NA   \n",
       "1272          NA                      NA            Yes        NA   \n",
       "1273          NA                      NA            Yes        NA   \n",
       "1274          NA                      NA            Yes        NA   \n",
       "1275          NA                     Yes            Yes        NA   \n",
       "\n",
       "     Heads-Up_Display Welcome_Lights Battery  Electric_Range  \n",
       "0                  NA             NA      NA              NA  \n",
       "1                  NA             NA      NA              NA  \n",
       "2                  NA             NA      NA              NA  \n",
       "3                  NA             NA      NA              NA  \n",
       "4                  NA             NA      NA              NA  \n",
       "...               ...            ...     ...             ...  \n",
       "1271               NA             NA      NA              NA  \n",
       "1272               NA             NA      NA              NA  \n",
       "1273               NA             NA      NA              NA  \n",
       "1274               NA             NA      NA              NA  \n",
       "1275               NA             NA      NA              NA  \n",
       "\n",
       "[1276 rows x 141 columns]"
      ]
     },
     "execution_count": 96,
     "metadata": {},
     "output_type": "execute_result"
    }
   ],
   "source": [
    "df2"
   ]
  },
  {
   "cell_type": "code",
   "execution_count": 97,
   "id": "6dd1c0e1",
   "metadata": {},
   "outputs": [
    {
     "data": {
      "text/plain": [
       "0       1325  \n",
       "1       1325  \n",
       "2       1325  \n",
       "3       1325  \n",
       "4       1325  \n",
       "         ...  \n",
       "1271    1475  \n",
       "1272    1475  \n",
       "1273    1475  \n",
       "1274    1490  \n",
       "1275    1560  \n",
       "Name: Front_Track, Length: 1276, dtype: object"
      ]
     },
     "execution_count": 97,
     "metadata": {},
     "output_type": "execute_result"
    }
   ],
   "source": [
    "df2.Front_Track"
   ]
  },
  {
   "cell_type": "code",
   "execution_count": 98,
   "id": "47168d83",
   "metadata": {},
   "outputs": [
    {
     "data": {
      "text/html": [
       "<div>\n",
       "<style scoped>\n",
       "    .dataframe tbody tr th:only-of-type {\n",
       "        vertical-align: middle;\n",
       "    }\n",
       "\n",
       "    .dataframe tbody tr th {\n",
       "        vertical-align: top;\n",
       "    }\n",
       "\n",
       "    .dataframe thead th {\n",
       "        text-align: right;\n",
       "    }\n",
       "</style>\n",
       "<table border=\"1\" class=\"dataframe\">\n",
       "  <thead>\n",
       "    <tr style=\"text-align: right;\">\n",
       "      <th></th>\n",
       "      <th>Unnamed: 0</th>\n",
       "      <th>Make</th>\n",
       "      <th>Model</th>\n",
       "      <th>Variant</th>\n",
       "      <th>Ex-Showroom_Price</th>\n",
       "      <th>Displacement</th>\n",
       "      <th>Cylinders</th>\n",
       "      <th>Valves_Per_Cylinder</th>\n",
       "      <th>Drivetrain</th>\n",
       "      <th>Cylinder_Configuration</th>\n",
       "      <th>...</th>\n",
       "      <th>Leather_Wrapped_Steering</th>\n",
       "      <th>Automatic_Headlamps</th>\n",
       "      <th>Engine_Type</th>\n",
       "      <th>ASR_/_Traction_Control</th>\n",
       "      <th>Cruise_Control</th>\n",
       "      <th>USB_Ports</th>\n",
       "      <th>Heads-Up_Display</th>\n",
       "      <th>Welcome_Lights</th>\n",
       "      <th>Battery</th>\n",
       "      <th>Electric_Range</th>\n",
       "    </tr>\n",
       "  </thead>\n",
       "  <tbody>\n",
       "    <tr>\n",
       "      <th>0</th>\n",
       "      <td>0</td>\n",
       "      <td>Tata</td>\n",
       "      <td>Nano Genx</td>\n",
       "      <td>Xt</td>\n",
       "      <td>Rs. 2,92,667</td>\n",
       "      <td>624 cc</td>\n",
       "      <td>2.0</td>\n",
       "      <td>2.0</td>\n",
       "      <td>RWD (Rear Wheel Drive)</td>\n",
       "      <td>In-line</td>\n",
       "      <td>...</td>\n",
       "      <td>NA</td>\n",
       "      <td>NA</td>\n",
       "      <td>NA</td>\n",
       "      <td>NA</td>\n",
       "      <td>NA</td>\n",
       "      <td>NA</td>\n",
       "      <td>NA</td>\n",
       "      <td>NA</td>\n",
       "      <td>NA</td>\n",
       "      <td>NA</td>\n",
       "    </tr>\n",
       "    <tr>\n",
       "      <th>1</th>\n",
       "      <td>1</td>\n",
       "      <td>Tata</td>\n",
       "      <td>Nano Genx</td>\n",
       "      <td>Xe</td>\n",
       "      <td>Rs. 2,36,447</td>\n",
       "      <td>624 cc</td>\n",
       "      <td>2.0</td>\n",
       "      <td>2.0</td>\n",
       "      <td>RWD (Rear Wheel Drive)</td>\n",
       "      <td>In-line</td>\n",
       "      <td>...</td>\n",
       "      <td>NA</td>\n",
       "      <td>NA</td>\n",
       "      <td>NA</td>\n",
       "      <td>NA</td>\n",
       "      <td>NA</td>\n",
       "      <td>NA</td>\n",
       "      <td>NA</td>\n",
       "      <td>NA</td>\n",
       "      <td>NA</td>\n",
       "      <td>NA</td>\n",
       "    </tr>\n",
       "    <tr>\n",
       "      <th>2</th>\n",
       "      <td>2</td>\n",
       "      <td>Tata</td>\n",
       "      <td>Nano Genx</td>\n",
       "      <td>Emax Xm</td>\n",
       "      <td>Rs. 2,96,661</td>\n",
       "      <td>624 cc</td>\n",
       "      <td>2.0</td>\n",
       "      <td>2.0</td>\n",
       "      <td>RWD (Rear Wheel Drive)</td>\n",
       "      <td>In-line</td>\n",
       "      <td>...</td>\n",
       "      <td>NA</td>\n",
       "      <td>NA</td>\n",
       "      <td>NA</td>\n",
       "      <td>NA</td>\n",
       "      <td>NA</td>\n",
       "      <td>NA</td>\n",
       "      <td>NA</td>\n",
       "      <td>NA</td>\n",
       "      <td>NA</td>\n",
       "      <td>NA</td>\n",
       "    </tr>\n",
       "    <tr>\n",
       "      <th>3</th>\n",
       "      <td>3</td>\n",
       "      <td>Tata</td>\n",
       "      <td>Nano Genx</td>\n",
       "      <td>Xta</td>\n",
       "      <td>Rs. 3,34,768</td>\n",
       "      <td>624 cc</td>\n",
       "      <td>2.0</td>\n",
       "      <td>2.0</td>\n",
       "      <td>RWD (Rear Wheel Drive)</td>\n",
       "      <td>In-line</td>\n",
       "      <td>...</td>\n",
       "      <td>NA</td>\n",
       "      <td>NA</td>\n",
       "      <td>NA</td>\n",
       "      <td>NA</td>\n",
       "      <td>NA</td>\n",
       "      <td>NA</td>\n",
       "      <td>NA</td>\n",
       "      <td>NA</td>\n",
       "      <td>NA</td>\n",
       "      <td>NA</td>\n",
       "    </tr>\n",
       "    <tr>\n",
       "      <th>4</th>\n",
       "      <td>4</td>\n",
       "      <td>Tata</td>\n",
       "      <td>Nano Genx</td>\n",
       "      <td>Xm</td>\n",
       "      <td>Rs. 2,72,223</td>\n",
       "      <td>624 cc</td>\n",
       "      <td>2.0</td>\n",
       "      <td>2.0</td>\n",
       "      <td>RWD (Rear Wheel Drive)</td>\n",
       "      <td>In-line</td>\n",
       "      <td>...</td>\n",
       "      <td>NA</td>\n",
       "      <td>NA</td>\n",
       "      <td>NA</td>\n",
       "      <td>NA</td>\n",
       "      <td>NA</td>\n",
       "      <td>NA</td>\n",
       "      <td>NA</td>\n",
       "      <td>NA</td>\n",
       "      <td>NA</td>\n",
       "      <td>NA</td>\n",
       "    </tr>\n",
       "  </tbody>\n",
       "</table>\n",
       "<p>5 rows × 141 columns</p>\n",
       "</div>"
      ],
      "text/plain": [
       "   Unnamed: 0  Make      Model  Variant Ex-Showroom_Price Displacement  \\\n",
       "0           0  Tata  Nano Genx       Xt      Rs. 2,92,667       624 cc   \n",
       "1           1  Tata  Nano Genx       Xe      Rs. 2,36,447       624 cc   \n",
       "2           2  Tata  Nano Genx  Emax Xm      Rs. 2,96,661       624 cc   \n",
       "3           3  Tata  Nano Genx      Xta      Rs. 3,34,768       624 cc   \n",
       "4           4  Tata  Nano Genx       Xm      Rs. 2,72,223       624 cc   \n",
       "\n",
       "   Cylinders  Valves_Per_Cylinder              Drivetrain  \\\n",
       "0        2.0                  2.0  RWD (Rear Wheel Drive)   \n",
       "1        2.0                  2.0  RWD (Rear Wheel Drive)   \n",
       "2        2.0                  2.0  RWD (Rear Wheel Drive)   \n",
       "3        2.0                  2.0  RWD (Rear Wheel Drive)   \n",
       "4        2.0                  2.0  RWD (Rear Wheel Drive)   \n",
       "\n",
       "  Cylinder_Configuration  ... Leather_Wrapped_Steering Automatic_Headlamps  \\\n",
       "0                In-line  ...                       NA                  NA   \n",
       "1                In-line  ...                       NA                  NA   \n",
       "2                In-line  ...                       NA                  NA   \n",
       "3                In-line  ...                       NA                  NA   \n",
       "4                In-line  ...                       NA                  NA   \n",
       "\n",
       "  Engine_Type  ASR_/_Traction_Control Cruise_Control USB_Ports  \\\n",
       "0          NA                      NA             NA        NA   \n",
       "1          NA                      NA             NA        NA   \n",
       "2          NA                      NA             NA        NA   \n",
       "3          NA                      NA             NA        NA   \n",
       "4          NA                      NA             NA        NA   \n",
       "\n",
       "  Heads-Up_Display Welcome_Lights Battery  Electric_Range  \n",
       "0               NA             NA      NA              NA  \n",
       "1               NA             NA      NA              NA  \n",
       "2               NA             NA      NA              NA  \n",
       "3               NA             NA      NA              NA  \n",
       "4               NA             NA      NA              NA  \n",
       "\n",
       "[5 rows x 141 columns]"
      ]
     },
     "execution_count": 98,
     "metadata": {},
     "output_type": "execute_result"
    }
   ],
   "source": [
    "df2.head()"
   ]
  },
  {
   "cell_type": "code",
   "execution_count": 99,
   "id": "f45baab8",
   "metadata": {},
   "outputs": [
    {
     "data": {
      "text/plain": [
       "0       2.0\n",
       "1       2.0\n",
       "2       2.0\n",
       "3       2.0\n",
       "4       2.0\n",
       "       ... \n",
       "1271    4.0\n",
       "1272    4.0\n",
       "1273    4.0\n",
       "1274    4.0\n",
       "1275    4.0\n",
       "Name: Cylinders, Length: 1276, dtype: float64"
      ]
     },
     "execution_count": 99,
     "metadata": {},
     "output_type": "execute_result"
    }
   ],
   "source": [
    "df2.Cylinders"
   ]
  },
  {
   "cell_type": "code",
   "execution_count": 100,
   "id": "3a4be8e2",
   "metadata": {},
   "outputs": [
    {
     "data": {
      "text/plain": [
       "Unnamed: 0           0\n",
       "Make                 0\n",
       "Model                0\n",
       "Variant              0\n",
       "Ex-Showroom_Price    0\n",
       "                    ..\n",
       "USB_Ports            0\n",
       "Heads-Up_Display     0\n",
       "Welcome_Lights       0\n",
       "Battery              0\n",
       "Electric_Range       0\n",
       "Length: 141, dtype: int64"
      ]
     },
     "execution_count": 100,
     "metadata": {},
     "output_type": "execute_result"
    }
   ],
   "source": [
    "df2.isnull().sum()"
   ]
  },
  {
   "cell_type": "code",
   "execution_count": 101,
   "id": "d13e1b7a",
   "metadata": {},
   "outputs": [
    {
     "ename": "IndentationError",
     "evalue": "unexpected indent (241231031.py, line 2)",
     "output_type": "error",
     "traceback": [
      "\u001b[1;36m  Input \u001b[1;32mIn [101]\u001b[1;36m\u001b[0m\n\u001b[1;33m    df2['Ex-Showroom_Price']=df2['Ex-Showroom_Price'].str.replace('Rs.',\" \").str.replace(\"litres\",\" \").str.replace(\",\",\" \").str.replace(\"kg\",\"\")\u001b[0m\n\u001b[1;37m    ^\u001b[0m\n\u001b[1;31mIndentationError\u001b[0m\u001b[1;31m:\u001b[0m unexpected indent\n"
     ]
    }
   ],
   "source": [
    "df2['Ex-Showroom_Price']\n",
    " df2['Ex-Showroom_Price']=df2['Ex-Showroom_Price'].str.replace('Rs.',\" \").str.replace(\"litres\",\" \").str.replace(\",\",\" \").str.replace(\"kg\",\"\")"
   ]
  },
  {
   "cell_type": "code",
   "execution_count": 102,
   "id": "d8c6ad4c",
   "metadata": {},
   "outputs": [
    {
     "name": "stderr",
     "output_type": "stream",
     "text": [
      "C:\\Users\\Aaditya\\AppData\\Local\\Temp\\ipykernel_38000\\2452419992.py:2: FutureWarning: The default value of regex will change from True to False in a future version.\n",
      "  df2['Ex-Showroom_Price']=df2['Ex-Showroom_Price'].str.replace('Rs.',\"\").str.replace(\"litres\",\" \").str.replace(\",\",\"\")\n"
     ]
    }
   ],
   "source": [
    "df2['Ex-Showroom_Price']\n",
    "df2['Ex-Showroom_Price']=df2['Ex-Showroom_Price'].str.replace('Rs.',\"\").str.replace(\"litres\",\" \").str.replace(\",\",\"\")"
   ]
  },
  {
   "cell_type": "code",
   "execution_count": 103,
   "id": "5f9deb2e",
   "metadata": {},
   "outputs": [],
   "source": [
    "df2['Ex-Showroom_Price']=pd.to_numeric(df2['Ex-Showroom_Price'],errors='coerce')"
   ]
  },
  {
   "cell_type": "code",
   "execution_count": 104,
   "id": "cd716f19",
   "metadata": {
    "scrolled": true
   },
   "outputs": [
    {
     "data": {
      "text/plain": [
       "0        292667\n",
       "1        236447\n",
       "2        296661\n",
       "3        334768\n",
       "4        272223\n",
       "         ...   \n",
       "1271    1302000\n",
       "1272    1421000\n",
       "1273    1431000\n",
       "1274    1201000\n",
       "1275    6862560\n",
       "Name: Ex-Showroom_Price, Length: 1276, dtype: int64"
      ]
     },
     "execution_count": 104,
     "metadata": {},
     "output_type": "execute_result"
    }
   ],
   "source": [
    "df2['Ex-Showroom_Price']"
   ]
  },
  {
   "cell_type": "code",
   "execution_count": 105,
   "id": "7b36ff0a",
   "metadata": {},
   "outputs": [
    {
     "data": {
      "text/html": [
       "<div>\n",
       "<style scoped>\n",
       "    .dataframe tbody tr th:only-of-type {\n",
       "        vertical-align: middle;\n",
       "    }\n",
       "\n",
       "    .dataframe tbody tr th {\n",
       "        vertical-align: top;\n",
       "    }\n",
       "\n",
       "    .dataframe thead th {\n",
       "        text-align: right;\n",
       "    }\n",
       "</style>\n",
       "<table border=\"1\" class=\"dataframe\">\n",
       "  <thead>\n",
       "    <tr style=\"text-align: right;\">\n",
       "      <th></th>\n",
       "      <th>Unnamed: 0</th>\n",
       "      <th>Make</th>\n",
       "      <th>Model</th>\n",
       "      <th>Variant</th>\n",
       "      <th>Ex-Showroom_Price</th>\n",
       "      <th>Displacement</th>\n",
       "      <th>Cylinders</th>\n",
       "      <th>Valves_Per_Cylinder</th>\n",
       "      <th>Drivetrain</th>\n",
       "      <th>Cylinder_Configuration</th>\n",
       "      <th>...</th>\n",
       "      <th>Leather_Wrapped_Steering</th>\n",
       "      <th>Automatic_Headlamps</th>\n",
       "      <th>Engine_Type</th>\n",
       "      <th>ASR_/_Traction_Control</th>\n",
       "      <th>Cruise_Control</th>\n",
       "      <th>USB_Ports</th>\n",
       "      <th>Heads-Up_Display</th>\n",
       "      <th>Welcome_Lights</th>\n",
       "      <th>Battery</th>\n",
       "      <th>Electric_Range</th>\n",
       "    </tr>\n",
       "  </thead>\n",
       "  <tbody>\n",
       "    <tr>\n",
       "      <th>0</th>\n",
       "      <td>0</td>\n",
       "      <td>Tata</td>\n",
       "      <td>Nano Genx</td>\n",
       "      <td>Xt</td>\n",
       "      <td>292667</td>\n",
       "      <td>624 cc</td>\n",
       "      <td>2.0</td>\n",
       "      <td>2.0</td>\n",
       "      <td>RWD (Rear Wheel Drive)</td>\n",
       "      <td>In-line</td>\n",
       "      <td>...</td>\n",
       "      <td>NA</td>\n",
       "      <td>NA</td>\n",
       "      <td>NA</td>\n",
       "      <td>NA</td>\n",
       "      <td>NA</td>\n",
       "      <td>NA</td>\n",
       "      <td>NA</td>\n",
       "      <td>NA</td>\n",
       "      <td>NA</td>\n",
       "      <td>NA</td>\n",
       "    </tr>\n",
       "    <tr>\n",
       "      <th>1</th>\n",
       "      <td>1</td>\n",
       "      <td>Tata</td>\n",
       "      <td>Nano Genx</td>\n",
       "      <td>Xe</td>\n",
       "      <td>236447</td>\n",
       "      <td>624 cc</td>\n",
       "      <td>2.0</td>\n",
       "      <td>2.0</td>\n",
       "      <td>RWD (Rear Wheel Drive)</td>\n",
       "      <td>In-line</td>\n",
       "      <td>...</td>\n",
       "      <td>NA</td>\n",
       "      <td>NA</td>\n",
       "      <td>NA</td>\n",
       "      <td>NA</td>\n",
       "      <td>NA</td>\n",
       "      <td>NA</td>\n",
       "      <td>NA</td>\n",
       "      <td>NA</td>\n",
       "      <td>NA</td>\n",
       "      <td>NA</td>\n",
       "    </tr>\n",
       "    <tr>\n",
       "      <th>2</th>\n",
       "      <td>2</td>\n",
       "      <td>Tata</td>\n",
       "      <td>Nano Genx</td>\n",
       "      <td>Emax Xm</td>\n",
       "      <td>296661</td>\n",
       "      <td>624 cc</td>\n",
       "      <td>2.0</td>\n",
       "      <td>2.0</td>\n",
       "      <td>RWD (Rear Wheel Drive)</td>\n",
       "      <td>In-line</td>\n",
       "      <td>...</td>\n",
       "      <td>NA</td>\n",
       "      <td>NA</td>\n",
       "      <td>NA</td>\n",
       "      <td>NA</td>\n",
       "      <td>NA</td>\n",
       "      <td>NA</td>\n",
       "      <td>NA</td>\n",
       "      <td>NA</td>\n",
       "      <td>NA</td>\n",
       "      <td>NA</td>\n",
       "    </tr>\n",
       "    <tr>\n",
       "      <th>3</th>\n",
       "      <td>3</td>\n",
       "      <td>Tata</td>\n",
       "      <td>Nano Genx</td>\n",
       "      <td>Xta</td>\n",
       "      <td>334768</td>\n",
       "      <td>624 cc</td>\n",
       "      <td>2.0</td>\n",
       "      <td>2.0</td>\n",
       "      <td>RWD (Rear Wheel Drive)</td>\n",
       "      <td>In-line</td>\n",
       "      <td>...</td>\n",
       "      <td>NA</td>\n",
       "      <td>NA</td>\n",
       "      <td>NA</td>\n",
       "      <td>NA</td>\n",
       "      <td>NA</td>\n",
       "      <td>NA</td>\n",
       "      <td>NA</td>\n",
       "      <td>NA</td>\n",
       "      <td>NA</td>\n",
       "      <td>NA</td>\n",
       "    </tr>\n",
       "    <tr>\n",
       "      <th>4</th>\n",
       "      <td>4</td>\n",
       "      <td>Tata</td>\n",
       "      <td>Nano Genx</td>\n",
       "      <td>Xm</td>\n",
       "      <td>272223</td>\n",
       "      <td>624 cc</td>\n",
       "      <td>2.0</td>\n",
       "      <td>2.0</td>\n",
       "      <td>RWD (Rear Wheel Drive)</td>\n",
       "      <td>In-line</td>\n",
       "      <td>...</td>\n",
       "      <td>NA</td>\n",
       "      <td>NA</td>\n",
       "      <td>NA</td>\n",
       "      <td>NA</td>\n",
       "      <td>NA</td>\n",
       "      <td>NA</td>\n",
       "      <td>NA</td>\n",
       "      <td>NA</td>\n",
       "      <td>NA</td>\n",
       "      <td>NA</td>\n",
       "    </tr>\n",
       "  </tbody>\n",
       "</table>\n",
       "<p>5 rows × 141 columns</p>\n",
       "</div>"
      ],
      "text/plain": [
       "   Unnamed: 0  Make      Model  Variant  Ex-Showroom_Price Displacement  \\\n",
       "0           0  Tata  Nano Genx       Xt             292667       624 cc   \n",
       "1           1  Tata  Nano Genx       Xe             236447       624 cc   \n",
       "2           2  Tata  Nano Genx  Emax Xm             296661       624 cc   \n",
       "3           3  Tata  Nano Genx      Xta             334768       624 cc   \n",
       "4           4  Tata  Nano Genx       Xm             272223       624 cc   \n",
       "\n",
       "   Cylinders  Valves_Per_Cylinder              Drivetrain  \\\n",
       "0        2.0                  2.0  RWD (Rear Wheel Drive)   \n",
       "1        2.0                  2.0  RWD (Rear Wheel Drive)   \n",
       "2        2.0                  2.0  RWD (Rear Wheel Drive)   \n",
       "3        2.0                  2.0  RWD (Rear Wheel Drive)   \n",
       "4        2.0                  2.0  RWD (Rear Wheel Drive)   \n",
       "\n",
       "  Cylinder_Configuration  ... Leather_Wrapped_Steering Automatic_Headlamps  \\\n",
       "0                In-line  ...                       NA                  NA   \n",
       "1                In-line  ...                       NA                  NA   \n",
       "2                In-line  ...                       NA                  NA   \n",
       "3                In-line  ...                       NA                  NA   \n",
       "4                In-line  ...                       NA                  NA   \n",
       "\n",
       "  Engine_Type  ASR_/_Traction_Control Cruise_Control USB_Ports  \\\n",
       "0          NA                      NA             NA        NA   \n",
       "1          NA                      NA             NA        NA   \n",
       "2          NA                      NA             NA        NA   \n",
       "3          NA                      NA             NA        NA   \n",
       "4          NA                      NA             NA        NA   \n",
       "\n",
       "  Heads-Up_Display Welcome_Lights Battery  Electric_Range  \n",
       "0               NA             NA      NA              NA  \n",
       "1               NA             NA      NA              NA  \n",
       "2               NA             NA      NA              NA  \n",
       "3               NA             NA      NA              NA  \n",
       "4               NA             NA      NA              NA  \n",
       "\n",
       "[5 rows x 141 columns]"
      ]
     },
     "execution_count": 105,
     "metadata": {},
     "output_type": "execute_result"
    }
   ],
   "source": [
    "df2.head()"
   ]
  },
  {
   "cell_type": "markdown",
   "id": "d7ba0bb5",
   "metadata": {},
   "source": [
    "# Analysing the data"
   ]
  },
  {
   "cell_type": "code",
   "execution_count": 106,
   "id": "594eafcd",
   "metadata": {},
   "outputs": [
    {
     "data": {
      "text/plain": [
       "Text(0, 0.5, 'count')"
      ]
     },
     "execution_count": 106,
     "metadata": {},
     "output_type": "execute_result"
    },
    {
     "data": {
      "image/png": "[encoded data removed]",
      "text/plain": [
       "<Figure size 1440x720 with 1 Axes>"
      ]
     },
     "metadata": {
      "needs_background": "light"
     },
     "output_type": "display_data"
    }
   ],
   "source": [
    "x=df2['Model'].value_counts().head(10).plot(kind='bar',figsize=(20, 10))\n",
    "x.set_xlabel(\"models\")\n",
    "x.set_ylabel(\"count\")"
   ]
  },
  {
   "cell_type": "code",
   "execution_count": 112,
   "id": "19d76325",
   "metadata": {},
   "outputs": [
    {
     "data": {
      "image/png": "[encoded data removed]",
      "text/plain": [
       "<Figure size 432x288 with 1 Axes>"
      ]
     },
     "metadata": {
      "needs_background": "light"
     },
     "output_type": "display_data"
    }
   ],
   "source": [
    "bins=[200000,300000,400000,500000,600000,700000,800000,900000,1000000,1100000,1200000,1300000,1400000,1500000,1600000,1700000,1800000,1900000,2000000]\n",
    "plt.hist(df2['Ex-Showroom_Price'],bins,histtype='bar',rwidth=0.8,color='g')\n",
    "plt.xlabel('ex Show Room price')\n",
    "plt.ylabel('Cars ')\n",
    "plt.title('Histogram')\n",
    "\n",
    "plt.show()\n"
   ]
  },
  {
   "cell_type": "code",
   "execution_count": 108,
   "id": "7b2cd000",
   "metadata": {},
   "outputs": [],
   "source": [
    "import matplotlib.pyplot as plt"
   ]
  },
  {
   "cell_type": "code",
   "execution_count": 109,
   "id": "9d80d202",
   "metadata": {},
   "outputs": [
    {
     "data": {
      "text/plain": [
       "0        292667\n",
       "1        236447\n",
       "2        296661\n",
       "3        334768\n",
       "4        272223\n",
       "         ...   \n",
       "1271    1302000\n",
       "1272    1421000\n",
       "1273    1431000\n",
       "1274    1201000\n",
       "1275    6862560\n",
       "Name: Ex-Showroom_Price, Length: 1276, dtype: int64"
      ]
     },
     "execution_count": 109,
     "metadata": {},
     "output_type": "execute_result"
    }
   ],
   "source": [
    "df2['Ex-Showroom_Price']"
   ]
  },
  {
   "cell_type": "code",
   "execution_count": null,
   "id": "309cb06f",
   "metadata": {},
   "outputs": [],
   "source": []
  }
 ],
 "metadata": {
  "kernelspec": {
   "display_name": "Python 3 (ipykernel)",
   "language": "python",
   "name": "python3"
  },
  "language_info": {
   "codemirror_mode": {
    "name": "ipython",
    "version": 3
   },
   "file_extension": ".py",
   "mimetype": "text/x-python",
   "name": "python",
   "nbconvert_exporter": "python",
   "pygments_lexer": "ipython3",
   "version": "3.10.4"
  }
 },
 "nbformat": 4,
 "nbformat_minor": 5
}
